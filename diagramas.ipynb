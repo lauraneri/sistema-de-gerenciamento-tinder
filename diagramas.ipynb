{
 "cells": [
  {
   "cell_type": "code",
   "execution_count": 1,
   "metadata": {},
   "outputs": [
    {
     "name": "stdout",
     "output_type": "stream",
     "text": [
      "Collecting iplantuml\n",
      "  Downloading IPlantUML-0.1.1.tar.gz (5.5 kB)\n",
      "  Preparing metadata (setup.py) ... \u001b[?25ldone\n",
      "\u001b[?25hCollecting plantweb\n",
      "  Downloading plantweb-1.2.1-py3-none-any.whl (20 kB)\n",
      "Requirement already satisfied: six in ./env/lib/python3.11/site-packages (from plantweb->iplantuml) (1.16.0)\n",
      "Collecting requests\n",
      "  Downloading requests-2.31.0-py3-none-any.whl (62 kB)\n",
      "\u001b[2K     \u001b[90m━━━━━━━━━━━━━━━━━━━━━━━━━━━━━━━━━━━━━━━━\u001b[0m \u001b[32m62.6/62.6 kB\u001b[0m \u001b[31m4.0 MB/s\u001b[0m eta \u001b[36m0:00:00\u001b[0m\n",
      "\u001b[?25hCollecting docutils\n",
      "  Downloading docutils-0.20.1-py3-none-any.whl (572 kB)\n",
      "\u001b[2K     \u001b[90m━━━━━━━━━━━━━━━━━━━━━━━━━━━━━━━━━━━━━━━\u001b[0m \u001b[32m572.7/572.7 kB\u001b[0m \u001b[31m5.4 MB/s\u001b[0m eta \u001b[36m0:00:00\u001b[0ma \u001b[36m0:00:01\u001b[0m\n",
      "\u001b[?25hCollecting charset-normalizer<4,>=2\n",
      "  Downloading charset_normalizer-3.3.0-cp311-cp311-manylinux_2_17_x86_64.manylinux2014_x86_64.whl (137 kB)\n",
      "\u001b[2K     \u001b[90m━━━━━━━━━━━━━━━━━━━━━━━━━━━━━━━━━━━━━━━\u001b[0m \u001b[32m137.1/137.1 kB\u001b[0m \u001b[31m7.2 MB/s\u001b[0m eta \u001b[36m0:00:00\u001b[0m\n",
      "\u001b[?25hCollecting idna<4,>=2.5\n",
      "  Downloading idna-3.4-py3-none-any.whl (61 kB)\n",
      "\u001b[2K     \u001b[90m━━━━━━━━━━━━━━━━━━━━━━━━━━━━━━━━━━━━━━━━\u001b[0m \u001b[32m61.5/61.5 kB\u001b[0m \u001b[31m13.0 MB/s\u001b[0m eta \u001b[36m0:00:00\u001b[0m\n",
      "\u001b[?25hCollecting urllib3<3,>=1.21.1\n",
      "  Downloading urllib3-2.0.6-py3-none-any.whl (123 kB)\n",
      "\u001b[2K     \u001b[90m━━━━━━━━━━━━━━━━━━━━━━━━━━━━━━━━━━━━━━\u001b[0m \u001b[32m123.8/123.8 kB\u001b[0m \u001b[31m12.0 MB/s\u001b[0m eta \u001b[36m0:00:00\u001b[0m\n",
      "\u001b[?25hCollecting certifi>=2017.4.17\n",
      "  Downloading certifi-2023.7.22-py3-none-any.whl (158 kB)\n",
      "\u001b[2K     \u001b[90m━━━━━━━━━━━━━━━━━━━━━━━━━━━━━━━━━━━━━━━\u001b[0m \u001b[32m158.3/158.3 kB\u001b[0m \u001b[31m5.2 MB/s\u001b[0m eta \u001b[36m0:00:00\u001b[0m\n",
      "\u001b[?25hInstalling collected packages: urllib3, idna, docutils, charset-normalizer, certifi, requests, plantweb, iplantuml\n",
      "\u001b[33m  DEPRECATION: iplantuml is being installed using the legacy 'setup.py install' method, because it does not have a 'pyproject.toml' and the 'wheel' package is not installed. pip 23.1 will enforce this behaviour change. A possible replacement is to enable the '--use-pep517' option. Discussion can be found at https://github.com/pypa/pip/issues/8559\u001b[0m\u001b[33m\n",
      "\u001b[0m  Running setup.py install for iplantuml ... \u001b[?25ldone\n",
      "\u001b[?25hSuccessfully installed certifi-2023.7.22 charset-normalizer-3.3.0 docutils-0.20.1 idna-3.4 iplantuml-0.1.1 plantweb-1.2.1 requests-2.31.0 urllib3-2.0.6\n",
      "Note: you may need to restart the kernel to use updated packages.\n"
     ]
    }
   ],
   "source": [
    "%pip install iplantuml\n",
    "import iplantuml"
   ]
  },
  {
   "cell_type": "code",
   "execution_count": 3,
   "metadata": {},
   "outputs": [
    {
     "name": "stdout",
     "output_type": "stream",
     "text": [
      "Writing output for /home/lauraneri/Documentos/aUSP/4º semestre/APOO/sistema-de-gerenciamento-tinder/sistema-de-gerenciamento-tinder/669ea8d4-ee20-46a9-aeba-ea5d70a6208c.uml to 669ea8d4-ee20-46a9-aeba-ea5d70a6208c.svg\n"
     ]
    },
    {
     "data": {
      "image/svg+xml": [
       "<svg xmlns=\"http://www.w3.org/2000/svg\" xmlns:xlink=\"http://www.w3.org/1999/xlink\" contentStyleType=\"text/css\" height=\"478px\" preserveAspectRatio=\"none\" style=\"width:2899px;height:478px;background:#FFFFFF;\" version=\"1.1\" viewBox=\"0 0 2899 478\" width=\"2899px\" zoomAndPan=\"magnify\"><defs/><g><!--entity premium--><g id=\"elem_premium\"><ellipse cx=\"1403.5\" cy=\"405.3659\" fill=\"#F1F1F1\" rx=\"8\" ry=\"8\" style=\"stroke:#181818;stroke-width:0.5;\"/><path d=\"M1403.5,413.3659 L1403.5,440.3659 M1390.5,421.3659 L1416.5,421.3659 M1403.5,440.3659 L1390.5,455.3659 M1403.5,440.3659 L1416.5,455.3659 \" fill=\"none\" style=\"stroke:#181818;stroke-width:0.5;\"/><text fill=\"#000000\" font-family=\"sans-serif\" font-size=\"14\" lengthAdjust=\"spacing\" textLength=\"119\" x=\"1344\" y=\"469.861\">Usuario Premium</text><text fill=\"#000000\" font-family=\"sans-serif\" font-size=\"14\" font-style=\"italic\" lengthAdjust=\"spacing\" textLength=\"67\" x=\"1370\" y=\"393.5641\">«Pessoa»</text></g><!--entity user--><g id=\"elem_user\"><ellipse cx=\"1403.5\" cy=\"252.3659\" fill=\"#F1F1F1\" rx=\"8\" ry=\"8\" style=\"stroke:#181818;stroke-width:0.5;\"/><path d=\"M1403.5,260.3659 L1403.5,287.3659 M1390.5,268.3659 L1416.5,268.3659 M1403.5,287.3659 L1390.5,302.3659 M1403.5,287.3659 L1416.5,302.3659 \" fill=\"none\" style=\"stroke:#181818;stroke-width:0.5;\"/><text fill=\"#000000\" font-family=\"sans-serif\" font-size=\"14\" lengthAdjust=\"spacing\" textLength=\"51\" x=\"1378\" y=\"316.861\">Usuario</text><text fill=\"#000000\" font-family=\"sans-serif\" font-size=\"14\" font-style=\"italic\" lengthAdjust=\"spacing\" textLength=\"67\" x=\"1370\" y=\"240.5641\">«Pessoa»</text></g><!--entity adm--><g id=\"elem_adm\"><ellipse cx=\"2041.5\" cy=\"99.3659\" fill=\"#F1F1F1\" rx=\"8\" ry=\"8\" style=\"stroke:#181818;stroke-width:0.5;\"/><path d=\"M2041.5,107.3659 L2041.5,134.3659 M2028.5,115.3659 L2054.5,115.3659 M2041.5,134.3659 L2028.5,149.3659 M2041.5,134.3659 L2054.5,149.3659 \" fill=\"none\" style=\"stroke:#181818;stroke-width:0.5;\"/><text fill=\"#000000\" font-family=\"sans-serif\" font-size=\"14\" lengthAdjust=\"spacing\" textLength=\"102\" x=\"1990.5\" y=\"163.861\">Administrador</text><text fill=\"#000000\" font-family=\"sans-serif\" font-size=\"14\" font-style=\"italic\" lengthAdjust=\"spacing\" textLength=\"67\" x=\"2008\" y=\"87.5641\">«Pessoa»</text></g><!--entity sistema--><g id=\"elem_sistema\"><ellipse cx=\"659.5\" cy=\"99.3659\" fill=\"#F1F1F1\" rx=\"8\" ry=\"8\" style=\"stroke:#181818;stroke-width:0.5;\"/><path d=\"M659.5,107.3659 L659.5,134.3659 M646.5,115.3659 L672.5,115.3659 M659.5,134.3659 L646.5,149.3659 M659.5,134.3659 L672.5,149.3659 \" fill=\"none\" style=\"stroke:#181818;stroke-width:0.5;\"/><text fill=\"#000000\" font-family=\"sans-serif\" font-size=\"14\" lengthAdjust=\"spacing\" textLength=\"58\" x=\"630.5\" y=\"163.861\">Sistema</text><text fill=\"#000000\" font-family=\"sans-serif\" font-size=\"14\" font-style=\"italic\" lengthAdjust=\"spacing\" textLength=\"88\" x=\"615.5\" y=\"87.5641\">«Aplicacao»</text></g><g id=\"elem_uc1\"><ellipse cx=\"1261.5597\" cy=\"120.851\" fill=\"#F1F1F1\" rx=\"61.5597\" ry=\"14.782\" style=\"stroke:#181818;stroke-width:0.5;\"/><text fill=\"#000000\" font-family=\"sans-serif\" font-size=\"14\" lengthAdjust=\"spacing\" textLength=\"69\" x=\"1224.0597\" y=\"124.5985\">Cadastrar</text></g><g id=\"elem_uc2\"><ellipse cx=\"46.6638\" cy=\"121.1502\" fill=\"#F1F1F1\" rx=\"40.6638\" ry=\"14.5812\" style=\"stroke:#181818;stroke-width:0.5;\"/><text fill=\"#000000\" font-family=\"sans-serif\" font-size=\"14\" lengthAdjust=\"spacing\" textLength=\"41\" x=\"23.5122\" y=\"124.8122\">Curtir</text></g><g id=\"elem_uc3\"><ellipse cx=\"1403.6374\" cy=\"121.2081\" fill=\"#F1F1F1\" rx=\"45.1374\" ry=\"14.6391\" style=\"stroke:#181818;stroke-width:0.5;\"/><text fill=\"#000000\" font-family=\"sans-serif\" font-size=\"14\" lengthAdjust=\"spacing\" textLength=\"47\" x=\"1377.1374\" y=\"124.9557\">Buscar</text></g><g id=\"elem_uc4\"><ellipse cx=\"1540.5799\" cy=\"120.8201\" fill=\"#F1F1F1\" rx=\"57.0799\" ry=\"14.7511\" style=\"stroke:#181818;stroke-width:0.5;\"/><text fill=\"#000000\" font-family=\"sans-serif\" font-size=\"14\" lengthAdjust=\"spacing\" textLength=\"63\" x=\"1506.0799\" y=\"124.5677\">Bloquear</text></g><g id=\"elem_uc5\"><ellipse cx=\"353.3197\" cy=\"120.8361\" fill=\"#F1F1F1\" rx=\"59.3197\" ry=\"14.7671\" style=\"stroke:#181818;stroke-width:0.5;\"/><text fill=\"#000000\" font-family=\"sans-serif\" font-size=\"14\" lengthAdjust=\"spacing\" textLength=\"66\" x=\"317.3197\" y=\"124.5837\">Usar chat</text></g><g id=\"elem_uc6\"><ellipse cx=\"1700.5233\" cy=\"120.9737\" fill=\"#F1F1F1\" rx=\"67.5233\" ry=\"15.9047\" style=\"stroke:#181818;stroke-width:0.5;\"/><text fill=\"#000000\" font-family=\"sans-serif\" font-size=\"14\" lengthAdjust=\"spacing\" textLength=\"86\" x=\"1654.5233\" y=\"124.7212\">Editar perfil</text></g><g id=\"elem_uc7\"><ellipse cx=\"1879.2754\" cy=\"121.1241\" fill=\"#F1F1F1\" rx=\"75.7754\" ry=\"17.5551\" style=\"stroke:#181818;stroke-width:0.5;\"/><text fill=\"#000000\" font-family=\"sans-serif\" font-size=\"14\" lengthAdjust=\"spacing\" textLength=\"108\" x=\"1822.2754\" y=\"124.8716\">Remover perfil</text></g><g id=\"elem_uc8\"><ellipse cx=\"842.4086\" cy=\"274.1507\" fill=\"#F1F1F1\" rx=\"105.9086\" ry=\"23.5817\" style=\"stroke:#181818;stroke-width:0.5;\"/><text fill=\"#000000\" font-family=\"sans-serif\" font-size=\"14\" lengthAdjust=\"spacing\" textLength=\"177\" x=\"753.9086\" y=\"276.9974\">Acessar lista de matches</text></g><g id=\"elem_uc9\"><ellipse cx=\"1062.5591\" cy=\"274.1808\" fill=\"#F1F1F1\" rx=\"78.5591\" ry=\"18.1118\" style=\"stroke:#181818;stroke-width:0.5;\"/><text fill=\"#000000\" font-family=\"sans-serif\" font-size=\"14\" lengthAdjust=\"spacing\" textLength=\"115\" x=\"1002.8328\" y=\"277.7215\">Denunciar perfil</text></g><g id=\"elem_uc10\"><ellipse cx=\"1255.4652\" cy=\"274.262\" fill=\"#F1F1F1\" rx=\"78.9652\" ry=\"18.193\" style=\"stroke:#181818;stroke-width:0.5;\"/><text fill=\"#000000\" font-family=\"sans-serif\" font-size=\"14\" lengthAdjust=\"spacing\" textLength=\"116\" x=\"1195.4\" y=\"277.7576\">Enviar feedback</text></g><g id=\"elem_uc11\"><ellipse cx=\"1898.6107\" cy=\"274.0911\" fill=\"#F1F1F1\" rx=\"80.6107\" ry=\"18.5221\" style=\"stroke:#181818;stroke-width:0.5;\"/><text fill=\"#000000\" font-family=\"sans-serif\" font-size=\"14\" lengthAdjust=\"spacing\" textLength=\"120\" x=\"1837.1726\" y=\"277.4038\">Assinar premium</text></g><g id=\"elem_uc12\"><ellipse cx=\"1684.6147\" cy=\"274.1919\" fill=\"#F1F1F1\" rx=\"98.6147\" ry=\"22.1229\" style=\"stroke:#181818;stroke-width:0.5;\"/><text fill=\"#000000\" font-family=\"sans-serif\" font-size=\"14\" lengthAdjust=\"spacing\" textLength=\"161\" x=\"1604.1147\" y=\"277.0386\">Conectar redes sociais</text></g><g id=\"elem_uc24\"><ellipse cx=\"1511.6869\" cy=\"274.1324\" fill=\"#F1F1F1\" rx=\"39.1869\" ry=\"14.5634\" style=\"stroke:#181818;stroke-width:0.5;\"/><text fill=\"#000000\" font-family=\"sans-serif\" font-size=\"14\" lengthAdjust=\"spacing\" textLength=\"39\" x=\"1490.0666\" y=\"277.6566\">Login</text></g><g id=\"elem_uc14\"><ellipse cx=\"190.6011\" cy=\"121.1892\" fill=\"#F1F1F1\" rx=\"68.6011\" ry=\"16.1202\" style=\"stroke:#181818;stroke-width:0.5;\"/><text fill=\"#000000\" font-family=\"sans-serif\" font-size=\"14\" lengthAdjust=\"spacing\" textLength=\"89\" x=\"143.1011\" y=\"124.9368\">Fazer match</text></g><g id=\"elem_uc15\"><ellipse cx=\"514.2655\" cy=\"121.1221\" fill=\"#F1F1F1\" rx=\"65.7655\" ry=\"15.5531\" style=\"stroke:#181818;stroke-width:0.5;\"/><text fill=\"#000000\" font-family=\"sans-serif\" font-size=\"14\" lengthAdjust=\"spacing\" textLength=\"81\" x=\"470.7655\" y=\"124.8697\">Notificacao</text></g><g id=\"elem_uc25\"><ellipse cx=\"2661.4293\" cy=\"120.8549\" fill=\"#F1F1F1\" rx=\"71.9293\" ry=\"16.7859\" style=\"stroke:#181818;stroke-width:0.5;\"/><text fill=\"#000000\" font-family=\"sans-serif\" font-size=\"14\" lengthAdjust=\"spacing\" textLength=\"98\" x=\"2609.4293\" y=\"124.6024\">Congelar user</text></g><g id=\"elem_uc26\"><ellipse cx=\"2831.4096\" cy=\"120.9509\" fill=\"#F1F1F1\" rx=\"62.4096\" ry=\"14.8819\" style=\"stroke:#181818;stroke-width:0.5;\"/><text fill=\"#000000\" font-family=\"sans-serif\" font-size=\"14\" lengthAdjust=\"spacing\" textLength=\"71\" x=\"2792.9096\" y=\"124.6985\">Banir user</text></g><g id=\"elem_uc16\"><ellipse cx=\"1573.3844\" cy=\"427.0459\" fill=\"#F1F1F1\" rx=\"75.3844\" ry=\"17.4769\" style=\"stroke:#181818;stroke-width:0.5;\"/><text fill=\"#000000\" font-family=\"sans-serif\" font-size=\"14\" lengthAdjust=\"spacing\" textLength=\"107\" x=\"1516.8844\" y=\"430.7934\">Destacar perfil</text></g><g id=\"elem_uc17\"><ellipse cx=\"1181.3908\" cy=\"426.8472\" fill=\"#F1F1F1\" rx=\"126.8908\" ry=\"27.7782\" style=\"stroke:#181818;stroke-width:0.5;\"/><text fill=\"#000000\" font-family=\"sans-serif\" font-size=\"14\" lengthAdjust=\"spacing\" textLength=\"222\" x=\"1070.3908\" y=\"429.6938\">Acessar informacoes adicionais</text></g><g id=\"elem_uc27\"><ellipse cx=\"2661.3822\" cy=\"274.1454\" fill=\"#F1F1F1\" rx=\"100.8822\" ry=\"22.5764\" style=\"stroke:#181818;stroke-width:0.5;\"/><text fill=\"#000000\" font-family=\"sans-serif\" font-size=\"14\" lengthAdjust=\"spacing\" textLength=\"166\" x=\"2578.3822\" y=\"276.9921\">Desconto em encontro</text></g><g id=\"elem_uc18\"><ellipse cx=\"2481.5678\" cy=\"121.0826\" fill=\"#F1F1F1\" rx=\"73.0678\" ry=\"17.0136\" style=\"stroke:#181818;stroke-width:0.5;\"/><text fill=\"#000000\" font-family=\"sans-serif\" font-size=\"14\" lengthAdjust=\"spacing\" textLength=\"101\" x=\"2428.0678\" y=\"124.8301\">CRUD usuarios</text></g><g id=\"elem_uc19\"><ellipse cx=\"2250.6502\" cy=\"120.999\" fill=\"#F1F1F1\" rx=\"122.6502\" ry=\"26.93\" style=\"stroke:#181818;stroke-width:0.5;\"/><text fill=\"#000000\" font-family=\"sans-serif\" font-size=\"14\" lengthAdjust=\"spacing\" textLength=\"213\" x=\"2144.1502\" y=\"123.8457\">Criar categorias de interesses</text></g><g id=\"elem_uc22\"><ellipse cx=\"852.7303\" cy=\"121.3151\" fill=\"#F1F1F1\" rx=\"114.2303\" ry=\"25.2461\" style=\"stroke:#181818;stroke-width:0.5;\"/><text fill=\"#000000\" font-family=\"sans-serif\" font-size=\"14\" lengthAdjust=\"spacing\" textLength=\"195\" x=\"755.2303\" y=\"124.1617\">Gerenciar historico de chat</text></g><g id=\"elem_uc23\"><ellipse cx=\"1083.4455\" cy=\"121.2581\" fill=\"#F1F1F1\" rx=\"81.4455\" ry=\"18.6891\" style=\"stroke:#181818;stroke-width:0.5;\"/><text fill=\"#000000\" font-family=\"sans-serif\" font-size=\"14\" lengthAdjust=\"spacing\" textLength=\"122\" x=\"1021.3109\" y=\"124.478\">Classificar match</text></g><!--reverse link user to premium--><g id=\"link_user_premium\"><path d=\"M1403.5,338.784 C1403.5,357.707 1403.5,361.603 1403.5,380.5096 \" fill=\"none\" id=\"user-backto-premium\" style=\"stroke:#181818;stroke-width:1.0;\"/><polygon fill=\"none\" points=\"1403.5,320.784,1397.5,338.784,1409.5,338.784,1403.5,320.784\" style=\"stroke:#181818;stroke-width:1.0;\"/></g><!--reverse link uc1 to user--><g id=\"link_uc1_user\"><path d=\"M1278.7104,140.3749 C1300.2004,163.2269 1339.48,204.992 1369.96,237.404 \" fill=\"none\" id=\"uc1-backto-user\" style=\"stroke:#181818;stroke-width:1.0;\"/><polygon fill=\"#181818\" points=\"1274.6,136.004,1277.8516,145.3006,1278.0253,139.6464,1283.6795,139.8201,1274.6,136.004\" style=\"stroke:#181818;stroke-width:1.0;\"/></g><!--reverse link uc2 to user--><g id=\"link_uc2_user\"><path d=\"M62.6468,139.3852 C73.4746,150.2622 86.2709,160.777 104.5,167.569 C364.474,264.429 1094.22,123.775 1351.5,227.569 C1357.95,230.172 1364.15,233.931 1369.88,238.189 \" fill=\"none\" id=\"uc2-backto-user\" style=\"stroke:#181818;stroke-width:1.0;\"/><polygon fill=\"#181818\" points=\"58.4138,135.133,61.9285,144.3334,61.9413,138.6765,67.5982,138.6894,58.4138,135.133\" style=\"stroke:#181818;stroke-width:1.0;\"/></g><!--reverse link uc3 to user--><g id=\"link_uc3_user\"><path d=\"M1403.5,141.736 C1403.5,162.281 1403.5,196.071 1403.5,227.555 \" fill=\"none\" id=\"uc3-backto-user\" style=\"stroke:#181818;stroke-width:1.0;\"/><polygon fill=\"#181818\" points=\"1403.5,135.736,1399.5,144.736,1403.5,140.736,1407.5,144.736,1403.5,135.736\" style=\"stroke:#181818;stroke-width:1.0;\"/></g><!--reverse link uc4 to user--><g id=\"link_uc4_user\"><path d=\"M1524.0686,140.1799 C1503.7186,162.6119 1466.58,203.545 1437.13,236.001 \" fill=\"none\" id=\"uc4-backto-user\" style=\"stroke:#181818;stroke-width:1.0;\"/><polygon fill=\"#181818\" points=\"1528.1,135.736,1519.0903,139.7142,1524.7405,139.4392,1525.0155,145.0894,1528.1,135.736\" style=\"stroke:#181818;stroke-width:1.0;\"/></g><!--reverse link uc5 to user--><g id=\"link_uc5_user\"><path d=\"M375.587,138.9938 C390.496,149.7748 408.245,160.7 430.5,167.569 C822.455,288.549 972.405,70.879 1351.5,227.569 C1357.93,230.227 1364.12,234.016 1369.84,238.287 \" fill=\"none\" id=\"uc5-backto-user\" style=\"stroke:#181818;stroke-width:1.0;\"/><polygon fill=\"#181818\" points=\"370.725,135.478,375.6741,143.9931,374.7767,138.4078,380.3619,137.5104,370.725,135.478\" style=\"stroke:#181818;stroke-width:1.0;\"/></g><!--reverse link uc6 to user--><g id=\"link_uc6_user\"><path d=\"M1670.839,138.984 C1653.849,148.453 1635.76,158.007 1614.5,167.569 C1545.24,198.724 1519.5,188.287 1454.5,227.569 C1448.61,231.129 1442.77,235.411 1437.26,239.906 \" fill=\"none\" id=\"uc6-backto-user\" style=\"stroke:#181818;stroke-width:1.0;\"/><polygon fill=\"#181818\" points=\"1676.08,136.063,1666.2712,136.9504,1671.7125,138.4971,1670.1658,143.9384,1676.08,136.063\" style=\"stroke:#181818;stroke-width:1.0;\"/></g><!--reverse link uc7 to user--><g id=\"link_uc7_user\"><path d=\"M1847.0716,140.5048 C1828.7316,150.4168 1808.94,159.928 1785.5,167.569 C1643.35,213.898 1588.87,162.014 1454.5,227.569 C1448.42,230.535 1442.52,234.435 1437.02,238.708 \" fill=\"none\" id=\"uc7-backto-user\" style=\"stroke:#181818;stroke-width:1.0;\"/><polygon fill=\"#181818\" points=\"1852.35,137.652,1842.5305,138.4122,1847.9513,140.0293,1846.3342,145.4501,1852.35,137.652\" style=\"stroke:#181818;stroke-width:1.0;\"/></g><!--reverse link uc8 to user--><g id=\"link_uc8_user\"><path d=\"M878.4515,248.0599 C905.9275,229.4709 942.984,207.947 984,197.569 C1059.4,178.491 1262.88,166.092 1334,197.569 C1348.77,204.105 1361.74,215.5 1372.36,227.53 \" fill=\"none\" id=\"uc8-backto-user\" style=\"stroke:#181818;stroke-width:1.0;\"/><polygon fill=\"#181818\" points=\"873.482,251.422,883.1777,249.6918,877.6233,248.6202,878.6948,243.0658,873.482,251.422\" style=\"stroke:#181818;stroke-width:1.0;\"/></g><!--reverse link uc9 to user--><g id=\"link_uc9_user\"><path d=\"M1085.5888,252.2925 C1106.6688,233.5015 1138.5,209.026 1176,197.569 C1243.16,177.05 1269.79,169.15 1334,197.569 C1348.77,204.105 1361.74,215.5 1372.36,227.53 \" fill=\"none\" id=\"uc9-backto-user\" style=\"stroke:#181818;stroke-width:1.0;\"/><polygon fill=\"#181818\" points=\"1081.11,256.285,1090.4899,253.2821,1084.8424,252.9579,1085.1666,247.3104,1081.11,256.285\" style=\"stroke:#181818;stroke-width:1.0;\"/></g><!--reverse link uc10 to user--><g id=\"link_uc10_user\"><path d=\"M1340.7,274.069 C1352.44,274.069 1358.17,274.069 1369.91,274.069 \" fill=\"none\" id=\"uc10-backto-user\" style=\"stroke:#181818;stroke-width:1.0;\"/><polygon fill=\"#181818\" points=\"1334.7,274.069,1343.7,278.069,1339.7,274.069,1343.7,270.069,1334.7,274.069\" style=\"stroke:#181818;stroke-width:1.0;\"/></g><!--link user to uc11--><g id=\"link_user_uc11\"><path d=\"M1434.08,227.544 C1444.54,215.514 1457.35,204.115 1472,197.569 C1535.1,169.372 1716.82,177.641 1783,197.569 C1820.77,208.943 1853.0285,233.1949 1874.5785,251.9929 \" fill=\"none\" id=\"user-to-uc11\" style=\"stroke:#181818;stroke-width:1.0;\"/><polygon fill=\"#181818\" points=\"1879.1,255.937,1874.9471,247.0065,1875.3321,252.6502,1869.6883,253.0352,1879.1,255.937\" style=\"stroke:#181818;stroke-width:1.0;\"/></g><!--link user to uc12--><g id=\"link_user_uc12\"><path d=\"M1434.08,227.544 C1444.54,215.514 1457.35,204.115 1472,197.569 C1503.65,183.425 1516.49,188.705 1550,197.569 C1590.38,208.25 1626.4647,230.6697 1652.3947,249.3837 \" fill=\"none\" id=\"user-to-uc12\" style=\"stroke:#181818;stroke-width:1.0;\"/><polygon fill=\"#181818\" points=\"1657.26,252.895,1652.303,244.3845,1653.2056,249.9689,1647.6212,250.8715,1657.26,252.895\" style=\"stroke:#181818;stroke-width:1.0;\"/></g><!--link user to uc24--><g id=\"link_user_uc24\"><path d=\"M1437.25,304.04 C1457.94,314.061 1474.3879,312.9672 1495.0779,292.2722 \" fill=\"none\" id=\"user-to-uc24\" style=\"stroke:#181818;stroke-width:1.0;\"/><polygon fill=\"#181818\" points=\"1499.32,288.029,1490.128,291.5656,1495.7849,291.565,1495.7856,297.2218,1499.32,288.029\" style=\"stroke:#181818;stroke-width:1.0;\"/></g><!--link user to uc24--><g id=\"link_user_uc24\"><path d=\"M1437.25,244.098 C1457.94,234.077 1474.3879,235.1708 1495.0779,255.8658 \" fill=\"none\" id=\"user-to-uc24-1\" style=\"stroke:#181818;stroke-width:1.0;\"/><polygon fill=\"#181818\" points=\"1499.32,260.109,1495.7856,250.9162,1495.7849,256.573,1490.128,256.5724,1499.32,260.109\" style=\"stroke:#181818;stroke-width:1.0;\"/></g><!--link uc2 to uc14--><g id=\"link_uc2_uc14\"><path d=\"M87,121.069 C98.5898,121.069 104.18,121.069 115.77,121.069 \" fill=\"none\" id=\"uc2-to-uc14\" style=\"stroke:#181818;stroke-width:1.0;\"/><polygon fill=\"#181818\" points=\"121.77,121.069,112.77,117.069,116.77,121.069,112.77,125.069,121.77,121.069\" style=\"stroke:#181818;stroke-width:1.0;\"/></g><!--link uc14 to uc15--><g id=\"link_uc14_uc15\"><path d=\"M205.151,105.323 C223.721,86.641 257.71,56.525 294,44.569 C344.233,28.02 362.845,27.785 413,44.569 C448.992,56.613 478.2621,82.6987 496.3371,101.3467 \" fill=\"none\" id=\"uc14-to-uc15\" style=\"stroke:#181818;stroke-width:1.0;\"/><polygon fill=\"#181818\" points=\"500.513,105.655,497.1213,96.4086,497.0331,102.0647,491.3769,101.9765,500.513,105.655\" style=\"stroke:#181818;stroke-width:1.0;\"/></g><!--link uc5 to uc15--><g id=\"link_uc5_uc15\"><path d=\"M413.246,121.069 C424.98,121.069 430.714,121.069 442.448,121.069 \" fill=\"none\" id=\"uc5-to-uc15\" style=\"stroke:#181818;stroke-width:1.0;\"/><polygon fill=\"#181818\" points=\"448.448,121.069,439.448,117.069,443.448,121.069,439.448,125.069,448.448,121.069\" style=\"stroke:#181818;stroke-width:1.0;\"/></g><!--link uc5 to uc23--><g id=\"link_uc5_uc23\"><path d=\"M365.719,106.323 C382.163,87.763 413.377,56.826 448,44.569 C556.512,6.153 855.648,11.811 966,44.569 C1004.27,55.929 1037.1706,80.2298 1059.1506,99.0318 \" fill=\"none\" id=\"uc5-to-uc23\" style=\"stroke:#181818;stroke-width:1.0;\"/><polygon fill=\"#181818\" points=\"1063.71,102.932,1059.471,94.0421,1059.9105,99.6818,1054.2707,100.1213,1063.71,102.932\" style=\"stroke:#181818;stroke-width:1.0;\"/></g><!--link uc14 to uc23--><g id=\"link_uc14_uc23\"><path d=\"M205.151,105.323 C223.721,86.641 257.71,56.525 294,44.569 C364.917,21.205 894.42,23.321 966,44.569 C1004.27,55.929 1037.1706,80.2298 1059.1506,99.0318 \" fill=\"none\" id=\"uc14-to-uc23\" style=\"stroke:#181818;stroke-width:1.0;\"/><polygon fill=\"#181818\" points=\"1063.71,102.932,1059.471,94.0421,1059.9105,99.6818,1054.2707,100.1213,1063.71,102.932\" style=\"stroke:#181818;stroke-width:1.0;\"/></g><!--link premium to uc16--><g id=\"link_premium_uc16\"><path d=\"M1463.27,427.069 C1474.75,427.069 1480.23,427.069 1491.71,427.069 \" fill=\"none\" id=\"premium-to-uc16\" style=\"stroke:#181818;stroke-width:1.0;\"/><polygon fill=\"#181818\" points=\"1497.71,427.069,1488.71,423.069,1492.71,427.069,1488.71,431.069,1497.71,427.069\" style=\"stroke:#181818;stroke-width:1.0;\"/></g><!--reverse link uc17 to premium--><g id=\"link_uc17_premium\"><path d=\"M1314.54,427.069 C1326.29,427.069 1332.03,427.069 1343.78,427.069 \" fill=\"none\" id=\"uc17-backto-premium\" style=\"stroke:#181818;stroke-width:1.0;\"/><polygon fill=\"#181818\" points=\"1308.54,427.069,1317.54,431.069,1313.54,427.069,1317.54,423.069,1308.54,427.069\" style=\"stroke:#181818;stroke-width:1.0;\"/></g><!--link adm to uc18--><g id=\"link_adm_uc18\"><path d=\"M2082.16,74.348 C2095.43,62.312 2111.13,50.96 2128,44.569 C2229.83,6 2269.2,11.657 2373,44.569 C2409.91,56.273 2440.7396,81.4395 2460.5796,100.1925 \" fill=\"none\" id=\"adm-to-uc18\" style=\"stroke:#181818;stroke-width:1.0;\"/><polygon fill=\"#181818\" points=\"2464.94,104.314,2461.1471,95.2248,2461.3063,100.8794,2455.6517,101.0387,2464.94,104.314\" style=\"stroke:#181818;stroke-width:1.0;\"/></g><!--link adm to uc19--><g id=\"link_adm_uc19\"><path d=\"M2092.53,121.069 C2104.25,121.069 2109.97,121.069 2121.7,121.069 \" fill=\"none\" id=\"adm-to-uc19\" style=\"stroke:#181818;stroke-width:1.0;\"/><polygon fill=\"#181818\" points=\"2127.7,121.069,2118.7,117.069,2122.7,121.069,2118.7,125.069,2127.7,121.069\" style=\"stroke:#181818;stroke-width:1.0;\"/></g><!--link sistema to uc22--><g id=\"link_sistema_uc22\"><path d=\"M703.604,121.069 C715.139,121.069 720.675,121.069 732.21,121.069 \" fill=\"none\" id=\"sistema-to-uc22\" style=\"stroke:#181818;stroke-width:1.0;\"/><polygon fill=\"#181818\" points=\"738.21,121.069,729.21,117.069,733.21,121.069,729.21,125.069,738.21,121.069\" style=\"stroke:#181818;stroke-width:1.0;\"/></g><!--link sistema to uc23--><g id=\"link_sistema_uc23\"><path d=\"M695.703,74.425 C707.723,62.391 722.135,51.021 738,44.569 C831.868,6.395 868.856,15.732 966,44.569 C1004.27,55.929 1037.1706,80.2298 1059.1506,99.0318 \" fill=\"none\" id=\"sistema-to-uc23\" style=\"stroke:#181818;stroke-width:1.0;\"/><polygon fill=\"#181818\" points=\"1063.71,102.932,1059.471,94.0421,1059.9105,99.6818,1054.2707,100.1213,1063.71,102.932\" style=\"stroke:#181818;stroke-width:1.0;\"/></g><!--SRC=[RLHDZzem4BtdL_W81wGIbh0WXCH2sqjLhRRY1qoT0QmcDhMJFLJzyPsn4oVEzXI_DzzlHjbTN0jM6V5giLPjlHFWn2EynNx_YiuPE1ooNUVdxQr3cnYFPQsqSes5qbZl0cKQ_eEiM8EtkV0c-_5HAGaI3BbasUm49N0IEsUtMIkNSo9RswZ8vCIyj4uEFYjcAlExnO5x8kxYm0fvXwOdrqH-BbL3z0FjLLMzeI336zRc7QUM3LcEaeQWc8gw1b6YgA6HTtIzppFvd56tMgeFcRTSKh-puOfO_WJvAuxsYNCxfpH71S6ZpSzjD4fkrcA999gX_2fMNR8GtynDwQWC3PtDli0VciAt65rPZU-cKTUWTUJNeSeDAwh2EusfsF82MateWYkSaNIG7qPT5YEjbBuQMuCqo9UWf39wtFl6I-QaqOqHM0lK_BInitp3XKvlbpFLzsStnBBS9ykAIcZmPkZfU2jADsYf-h2OvPQpV2KshEPE2oHtQTXzV1WvQtcgW9R14atao-d0id3nVnUBVbMKcSzJx8bYO-PlCu6h53wbS9t28eMR53upZ6YR83ga27sRYqD_GsEO9v2F9NJScGEcJq-ivrsN_yUiIXB0nAH0rlz7kXH52F6p3Jhodw9peDsE4A-l_rLqIMc82REQ_mC0]--></g></svg>"
      ],
      "text/plain": [
       "<IPython.core.display.SVG object>"
      ]
     },
     "execution_count": 3,
     "metadata": {},
     "output_type": "execute_result"
    }
   ],
   "source": [
    "%%plantuml\n",
    "\n",
    "@startuml\n",
    "\n",
    ":Usuario Premium: as premium <<Pessoa>>\n",
    ":Usuario: as user <<Pessoa>>\n",
    ":Administrador: as adm <<Pessoa>>\n",
    ":Sistema: as sistema <<Aplicacao>>\n",
    "\n",
    "\n",
    "(Cadastrar) as (uc1)\n",
    "(Curtir) as (uc2)\n",
    "(Buscar) as (uc3)\n",
    "(Bloquear) as (uc4)\n",
    "(Usar chat) as (uc5)\n",
    "(Editar perfil) as (uc6)\n",
    "(Remover perfil) as (uc7)\n",
    "(Acessar lista de matches) as (uc8)\n",
    "(Denunciar perfil) as (uc9)\n",
    "(Enviar feedback) as (uc10)\n",
    "(Assinar premium) as (uc11)\n",
    "(Conectar redes sociais) as (uc12)\n",
    "(Login) as (uc24)\n",
    "\n",
    "(Fazer match) as (uc14)\n",
    "(Notificacao) as (uc15)\n",
    "(Congelar user) as (uc25)\n",
    "(Banir user) as (uc26)\n",
    "\n",
    "(Destacar perfil) as (uc16)\n",
    "(Acessar informacoes adicionais) as (uc17)\n",
    "(Desconto em encontro) as (uc27)\n",
    "\n",
    "(CRUD usuarios) as (uc18)\n",
    "(Criar categorias de interesses) as (uc19)\n",
    "\n",
    "(Gerenciar historico de chat) as (uc22)\n",
    "(Classificar match) as (uc23)\n",
    "\n",
    "user <|-- premium\n",
    "\n",
    "(uc1) <-- user\n",
    "(uc2) <-- user\n",
    "(uc3) <-- user\n",
    "(uc4) <-- user\n",
    "(uc5) <-- user\n",
    "(uc6) <-- user\n",
    "(uc7) <-- user\n",
    "(uc8) <- user\n",
    "(uc9) <- user\n",
    "(uc10) <- user\n",
    "user -> (uc11)\n",
    "user -> (uc12)\n",
    "user -> (uc24)\n",
    "(uc2) -> (uc14)\n",
    "(uc14) -> (uc15)\n",
    "(uc5) -> (uc15)\n",
    "(uc5) -> (uc23)\n",
    "(uc14) -> (uc23)\n",
    "user -> (uc24)\n",
    "\n",
    "premium -> (uc16)\n",
    "(uc17) <- premium\n",
    "\n",
    "adm -> (uc18)\n",
    "adm -> (uc19)\n",
    "\n",
    "sistema -> (uc22)\n",
    "sistema -> (uc23)\n",
    "\n",
    "\n",
    "@enduml\n"
   ]
  }
 ],
 "metadata": {
  "kernelspec": {
   "display_name": "Python 3",
   "language": "python",
   "name": "python3"
  },
  "language_info": {
   "codemirror_mode": {
    "name": "ipython",
    "version": 3
   },
   "file_extension": ".py",
   "mimetype": "text/x-python",
   "name": "python",
   "nbconvert_exporter": "python",
   "pygments_lexer": "ipython3",
   "version": "3.11.4"
  },
  "orig_nbformat": 4
 },
 "nbformat": 4,
 "nbformat_minor": 2
}
