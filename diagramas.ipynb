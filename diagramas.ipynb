{
 "cells": [
  {
   "cell_type": "code",
   "execution_count": 3,
   "metadata": {},
   "outputs": [
    {
     "name": "stdout",
     "output_type": "stream",
     "text": [
      "Defaulting to user installation because normal site-packages is not writeable\n",
      "Collecting iplantuml\n",
      "  Downloading IPlantUML-0.1.1.tar.gz (5.5 kB)\n",
      "  Preparing metadata (setup.py): started\n",
      "  Preparing metadata (setup.py): finished with status 'done'\n",
      "Collecting plantweb\n",
      "  Downloading plantweb-1.2.1-py3-none-any.whl (20 kB)\n",
      "Collecting requests\n",
      "  Downloading requests-2.31.0-py3-none-any.whl (62 kB)\n",
      "     ---------------------------------------- 62.6/62.6 KB 3.3 MB/s eta 0:00:00\n",
      "Requirement already satisfied: six in c:\\users\\13673221\\appdata\\roaming\\python\\python39\\site-packages (from plantweb->iplantuml) (1.16.0)\n",
      "Collecting docutils\n",
      "  Downloading docutils-0.20.1-py3-none-any.whl (572 kB)\n",
      "     ------------------------------------- 572.7/572.7 KB 18.1 MB/s eta 0:00:00\n",
      "Collecting urllib3<3,>=1.21.1\n",
      "  Downloading urllib3-2.0.5-py3-none-any.whl (123 kB)\n",
      "     ---------------------------------------- 123.8/123.8 KB ? eta 0:00:00\n",
      "Collecting idna<4,>=2.5\n",
      "  Downloading idna-3.4-py3-none-any.whl (61 kB)\n",
      "     ---------------------------------------- 61.5/61.5 KB ? eta 0:00:00\n",
      "Collecting charset-normalizer<4,>=2\n",
      "  Downloading charset_normalizer-3.2.0-cp39-cp39-win_amd64.whl (96 kB)\n",
      "     ---------------------------------------- 96.9/96.9 KB 5.4 MB/s eta 0:00:00\n",
      "Collecting certifi>=2017.4.17\n",
      "  Downloading certifi-2023.7.22-py3-none-any.whl (158 kB)\n",
      "     ---------------------------------------- 158.3/158.3 KB ? eta 0:00:00\n",
      "Using legacy 'setup.py install' for iplantuml, since package 'wheel' is not installed.\n",
      "Installing collected packages: urllib3, idna, docutils, charset-normalizer, certifi, requests, plantweb, iplantuml\n",
      "  Running setup.py install for iplantuml: started\n",
      "  Running setup.py install for iplantuml: finished with status 'done'\n",
      "Successfully installed certifi-2023.7.22 charset-normalizer-3.2.0 docutils-0.20.1 idna-3.4 iplantuml-0.1.1 plantweb-1.2.1 requests-2.31.0 urllib3-2.0.5\n",
      "Note: you may need to restart the kernel to use updated packages.\n"
     ]
    },
    {
     "name": "stderr",
     "output_type": "stream",
     "text": [
      "WARNING: You are using pip version 22.0.4; however, version 23.2.1 is available.\n",
      "You should consider upgrading via the 'c:\\Program Files (x86)\\Microsoft Visual Studio\\Shared\\Python39_64\\python.exe -m pip install --upgrade pip' command.\n"
     ]
    }
   ],
   "source": [
    "%pip install iplantuml\n",
    "import iplantuml"
   ]
  },
  {
   "cell_type": "code",
   "execution_count": 13,
   "metadata": {},
   "outputs": [
    {
     "ename": "CalledProcessError",
     "evalue": "Command '['plantweb', '--format', 'auto', '8569a2fb-c049-444e-bfb5-93a190efa8f8.uml']' returned non-zero exit status 1.",
     "output_type": "error",
     "traceback": [
      "\u001b[1;31m---------------------------------------------------------------------------\u001b[0m",
      "\u001b[1;31mCalledProcessError\u001b[0m                        Traceback (most recent call last)",
      "\u001b[1;32mc:\\Users\\13673221\\Documents\\apoo\\sistema-de-gerenciamento-tinder\\diagramas.ipynb Cell 2\u001b[0m line \u001b[0;36m1\n\u001b[1;32m----> <a href='vscode-notebook-cell:/c%3A/Users/13673221/Documents/apoo/sistema-de-gerenciamento-tinder/diagramas.ipynb#W1sZmlsZQ%3D%3D?line=0'>1</a>\u001b[0m get_ipython()\u001b[39m.\u001b[39;49mrun_cell_magic(\u001b[39m'\u001b[39;49m\u001b[39mplantuml\u001b[39;49m\u001b[39m'\u001b[39;49m, \u001b[39m'\u001b[39;49m\u001b[39m'\u001b[39;49m, \u001b[39m'\u001b[39;49m\u001b[39m\\n\u001b[39;49;00m\u001b[39m@startuml\u001b[39;49m\u001b[39m\\n\u001b[39;49;00m\u001b[39m:User Premium: as premium\u001b[39;49m\u001b[39m\\n\u001b[39;49;00m\u001b[39m\\n\u001b[39;49;00m\u001b[39mUsuário <|\u001b[39;49m\u001b[39m%\u001b[39;49m\u001b[39m-- premium\u001b[39;49m\u001b[39m\\n\u001b[39;49;00m\u001b[39m\\n\u001b[39;49;00m\u001b[39m@enduml\u001b[39;49m\u001b[39m\\n\u001b[39;49;00m\u001b[39m'\u001b[39;49m)\n",
      "File \u001b[1;32m~\\AppData\\Roaming\\Python\\Python39\\site-packages\\IPython\\core\\interactiveshell.py:2493\u001b[0m, in \u001b[0;36mInteractiveShell.run_cell_magic\u001b[1;34m(self, magic_name, line, cell)\u001b[0m\n\u001b[0;32m   2491\u001b[0m \u001b[39mwith\u001b[39;00m \u001b[39mself\u001b[39m\u001b[39m.\u001b[39mbuiltin_trap:\n\u001b[0;32m   2492\u001b[0m     args \u001b[39m=\u001b[39m (magic_arg_s, cell)\n\u001b[1;32m-> 2493\u001b[0m     result \u001b[39m=\u001b[39m fn(\u001b[39m*\u001b[39margs, \u001b[39m*\u001b[39m\u001b[39m*\u001b[39mkwargs)\n\u001b[0;32m   2495\u001b[0m \u001b[39m# The code below prevents the output from being displayed\u001b[39;00m\n\u001b[0;32m   2496\u001b[0m \u001b[39m# when using magics with decorator @output_can_be_silenced\u001b[39;00m\n\u001b[0;32m   2497\u001b[0m \u001b[39m# when the last Python token in the expression is a ';'.\u001b[39;00m\n\u001b[0;32m   2498\u001b[0m \u001b[39mif\u001b[39;00m \u001b[39mgetattr\u001b[39m(fn, magic\u001b[39m.\u001b[39mMAGIC_OUTPUT_CAN_BE_SILENCED, \u001b[39mFalse\u001b[39;00m):\n",
      "File \u001b[1;32m~\\AppData\\Roaming\\Python\\Python39\\site-packages\\iplantuml\\__init__.py:101\u001b[0m, in \u001b[0;36mplantuml\u001b[1;34m(line, cell)\u001b[0m\n\u001b[0;32m     99\u001b[0m output \u001b[39m=\u001b[39m \u001b[39mNone\u001b[39;00m\n\u001b[0;32m    100\u001b[0m \u001b[39mif\u001b[39;00m use_web:\n\u001b[1;32m--> 101\u001b[0m     output \u001b[39m=\u001b[39m plantuml_web(uml_path)\n\u001b[0;32m    102\u001b[0m \u001b[39melse\u001b[39;00m:\n\u001b[0;32m    103\u001b[0m     plantuml_path \u001b[39m=\u001b[39m os\u001b[39m.\u001b[39mpath\u001b[39m.\u001b[39mabspath(args\u001b[39m.\u001b[39mplantuml_path \u001b[39mor\u001b[39;00m PLANTUMLPATH)\n",
      "File \u001b[1;32m~\\AppData\\Roaming\\Python\\Python39\\site-packages\\iplantuml\\__init__.py:68\u001b[0m, in \u001b[0;36mplantuml_web\u001b[1;34m(*file_names, **kwargs)\u001b[0m\n\u001b[0;32m     57\u001b[0m \u001b[39m\u001b[39m\u001b[39m\"\"\"\u001b[39;00m\n\u001b[0;32m     58\u001b[0m \u001b[39mGiven a list of UML documents, generate corresponding SVG diagrams, using\u001b[39;00m\n\u001b[0;32m     59\u001b[0m \u001b[39mPlantUML's web service via the plantweb module.\u001b[39;00m\n\u001b[1;32m   (...)\u001b[0m\n\u001b[0;32m     62\u001b[0m \u001b[39m:return: the path to the generated SVG UML diagram.\u001b[39;00m\n\u001b[0;32m     63\u001b[0m \u001b[39m\"\"\"\u001b[39;00m\n\u001b[0;32m     64\u001b[0m cmd \u001b[39m=\u001b[39m [\u001b[39m\"\u001b[39m\u001b[39mplantweb\u001b[39m\u001b[39m\"\u001b[39m,\n\u001b[0;32m     65\u001b[0m        \u001b[39m\"\u001b[39m\u001b[39m--format\u001b[39m\u001b[39m\"\u001b[39m,\n\u001b[0;32m     66\u001b[0m        \u001b[39m\"\u001b[39m\u001b[39mauto\u001b[39m\u001b[39m\"\u001b[39m] \u001b[39m+\u001b[39m \u001b[39mlist\u001b[39m(file_names)\n\u001b[1;32m---> 68\u001b[0m \u001b[39mreturn\u001b[39;00m _exec_and_get_paths(cmd, file_names)\n",
      "File \u001b[1;32m~\\AppData\\Roaming\\Python\\Python39\\site-packages\\iplantuml\\__init__.py:32\u001b[0m, in \u001b[0;36m_exec_and_get_paths\u001b[1;34m(cmd, file_names)\u001b[0m\n\u001b[0;32m     31\u001b[0m \u001b[39mdef\u001b[39;00m \u001b[39m_exec_and_get_paths\u001b[39m(cmd, file_names):\n\u001b[1;32m---> 32\u001b[0m     subprocess\u001b[39m.\u001b[39;49mcheck_call(cmd, shell\u001b[39m=\u001b[39;49m\u001b[39mFalse\u001b[39;49;00m, stderr\u001b[39m=\u001b[39;49msubprocess\u001b[39m.\u001b[39;49mSTDOUT)\n\u001b[0;32m     34\u001b[0m     \u001b[39mreturn\u001b[39;00m [os\u001b[39m.\u001b[39mpath\u001b[39m.\u001b[39msplitext(f)[\u001b[39m0\u001b[39m] \u001b[39m+\u001b[39m \u001b[39m\"\u001b[39m\u001b[39m.svg\u001b[39m\u001b[39m\"\u001b[39m \u001b[39mfor\u001b[39;00m f \u001b[39min\u001b[39;00m file_names]\n",
      "File \u001b[1;32mc:\\Program Files (x86)\\Microsoft Visual Studio\\Shared\\Python39_64\\lib\\subprocess.py:373\u001b[0m, in \u001b[0;36mcheck_call\u001b[1;34m(*popenargs, **kwargs)\u001b[0m\n\u001b[0;32m    371\u001b[0m     \u001b[39mif\u001b[39;00m cmd \u001b[39mis\u001b[39;00m \u001b[39mNone\u001b[39;00m:\n\u001b[0;32m    372\u001b[0m         cmd \u001b[39m=\u001b[39m popenargs[\u001b[39m0\u001b[39m]\n\u001b[1;32m--> 373\u001b[0m     \u001b[39mraise\u001b[39;00m CalledProcessError(retcode, cmd)\n\u001b[0;32m    374\u001b[0m \u001b[39mreturn\u001b[39;00m \u001b[39m0\u001b[39m\n",
      "\u001b[1;31mCalledProcessError\u001b[0m: Command '['plantweb', '--format', 'auto', '8569a2fb-c049-444e-bfb5-93a190efa8f8.uml']' returned non-zero exit status 1."
     ]
    }
   ],
   "source": [
    "%%plantuml\n",
    "\n",
    "@startuml\n",
    ":User Premium: as premium\n",
    "\n",
    "Usuário <|-- premium\n",
    "\n",
    "@enduml\n"
   ]
  }
 ],
 "metadata": {
  "kernelspec": {
   "display_name": "Python 3",
   "language": "python",
   "name": "python3"
  },
  "language_info": {
   "codemirror_mode": {
    "name": "ipython",
    "version": 3
   },
   "file_extension": ".py",
   "mimetype": "text/x-python",
   "name": "python",
   "nbconvert_exporter": "python",
   "pygments_lexer": "ipython3",
   "version": "3.9.13"
  },
  "orig_nbformat": 4
 },
 "nbformat": 4,
 "nbformat_minor": 2
}
