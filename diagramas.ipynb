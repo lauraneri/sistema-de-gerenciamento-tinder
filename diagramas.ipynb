{
 "cells": [
  {
   "cell_type": "code",
   "execution_count": 6,
   "metadata": {},
   "outputs": [
    {
     "name": "stdout",
     "output_type": "stream",
     "text": [
      "Defaulting to user installation because normal site-packages is not writeable\n",
      "Requirement already satisfied: iplantuml in c:\\users\\13673221\\appdata\\roaming\\python\\python39\\site-packages (0.1.1)\n",
      "Requirement already satisfied: plantweb in c:\\users\\13673221\\appdata\\roaming\\python\\python39\\site-packages (from iplantuml) (1.2.1)\n",
      "Requirement already satisfied: docutils in c:\\users\\13673221\\appdata\\roaming\\python\\python39\\site-packages (from plantweb->iplantuml) (0.20.1)\n",
      "Requirement already satisfied: six in c:\\users\\13673221\\appdata\\roaming\\python\\python39\\site-packages (from plantweb->iplantuml) (1.16.0)\n",
      "Requirement already satisfied: requests in c:\\users\\13673221\\appdata\\roaming\\python\\python39\\site-packages (from plantweb->iplantuml) (2.31.0)\n",
      "Requirement already satisfied: idna<4,>=2.5 in c:\\users\\13673221\\appdata\\roaming\\python\\python39\\site-packages (from requests->plantweb->iplantuml) (3.4)\n",
      "Requirement already satisfied: certifi>=2017.4.17 in c:\\users\\13673221\\appdata\\roaming\\python\\python39\\site-packages (from requests->plantweb->iplantuml) (2023.7.22)\n",
      "Requirement already satisfied: charset-normalizer<4,>=2 in c:\\users\\13673221\\appdata\\roaming\\python\\python39\\site-packages (from requests->plantweb->iplantuml) (3.2.0)\n",
      "Requirement already satisfied: urllib3<3,>=1.21.1 in c:\\users\\13673221\\appdata\\roaming\\python\\python39\\site-packages (from requests->plantweb->iplantuml) (2.0.5)\n",
      "Note: you may need to restart the kernel to use updated packages.\n"
     ]
    },
    {
     "name": "stderr",
     "output_type": "stream",
     "text": [
      "WARNING: You are using pip version 22.0.4; however, version 23.2.1 is available.\n",
      "You should consider upgrading via the 'c:\\Program Files (x86)\\Microsoft Visual Studio\\Shared\\Python39_64\\python.exe -m pip install --upgrade pip' command.\n"
     ]
    }
   ],
   "source": [
    "%pip install iplantuml\n",
    "import iplantuml"
   ]
  },
  {
   "cell_type": "code",
   "execution_count": 55,
   "metadata": {},
   "outputs": [
    {
     "data": {
      "image/svg+xml": [
       "<svg xmlns=\"http://www.w3.org/2000/svg\" xmlns:xlink=\"http://www.w3.org/1999/xlink\" contentStyleType=\"text/css\" height=\"481px\" preserveAspectRatio=\"none\" style=\"width:3921px;height:481px;background:#FFFFFF;\" version=\"1.1\" viewBox=\"0 0 3921 481\" width=\"3921px\" zoomAndPan=\"magnify\"><defs/><g><!--entity premium--><g id=\"elem_premium\"><ellipse cx=\"673\" cy=\"408.1209\" fill=\"#F1F1F1\" rx=\"8\" ry=\"8\" style=\"stroke:#181818;stroke-width:0.5;\"/><path d=\"M673,416.1209 L673,443.1209 M660,424.1209 L686,424.1209 M673,443.1209 L660,458.1209 M673,443.1209 L686,458.1209 \" fill=\"none\" style=\"stroke:#181818;stroke-width:0.5;\"/><text fill=\"#000000\" font-family=\"sans-serif\" font-size=\"14\" lengthAdjust=\"spacing\" textLength=\"119\" x=\"613.5\" y=\"472.616\">Usuario Premium</text><text fill=\"#000000\" font-family=\"sans-serif\" font-size=\"14\" font-style=\"italic\" lengthAdjust=\"spacing\" textLength=\"67\" x=\"639.5\" y=\"396.3191\">«Pessoa»</text></g><!--entity user--><g id=\"elem_user\"><ellipse cx=\"673\" cy=\"255.1209\" fill=\"#F1F1F1\" rx=\"8\" ry=\"8\" style=\"stroke:#181818;stroke-width:0.5;\"/><path d=\"M673,263.1209 L673,290.1209 M660,271.1209 L686,271.1209 M673,290.1209 L660,305.1209 M673,290.1209 L686,305.1209 \" fill=\"none\" style=\"stroke:#181818;stroke-width:0.5;\"/><text fill=\"#000000\" font-family=\"sans-serif\" font-size=\"14\" lengthAdjust=\"spacing\" textLength=\"51\" x=\"647.5\" y=\"319.616\">Usuario</text><text fill=\"#000000\" font-family=\"sans-serif\" font-size=\"14\" font-style=\"italic\" lengthAdjust=\"spacing\" textLength=\"67\" x=\"639.5\" y=\"243.3191\">«Pessoa»</text></g><!--entity adm--><g id=\"elem_adm\"><ellipse cx=\"1328\" cy=\"102.1209\" fill=\"#F1F1F1\" rx=\"8\" ry=\"8\" style=\"stroke:#181818;stroke-width:0.5;\"/><path d=\"M1328,110.1209 L1328,137.1209 M1315,118.1209 L1341,118.1209 M1328,137.1209 L1315,152.1209 M1328,137.1209 L1341,152.1209 \" fill=\"none\" style=\"stroke:#181818;stroke-width:0.5;\"/><text fill=\"#000000\" font-family=\"sans-serif\" font-size=\"14\" lengthAdjust=\"spacing\" textLength=\"102\" x=\"1277\" y=\"166.616\">Administrador</text><text fill=\"#000000\" font-family=\"sans-serif\" font-size=\"14\" font-style=\"italic\" lengthAdjust=\"spacing\" textLength=\"67\" x=\"1294.5\" y=\"90.3191\">«Pessoa»</text></g><!--entity sistema--><g id=\"elem_sistema\"><ellipse cx=\"1920\" cy=\"102.1209\" fill=\"#F1F1F1\" rx=\"8\" ry=\"8\" style=\"stroke:#181818;stroke-width:0.5;\"/><path d=\"M1920,110.1209 L1920,137.1209 M1907,118.1209 L1933,118.1209 M1920,137.1209 L1907,152.1209 M1920,137.1209 L1933,152.1209 \" fill=\"none\" style=\"stroke:#181818;stroke-width:0.5;\"/><text fill=\"#000000\" font-family=\"sans-serif\" font-size=\"14\" lengthAdjust=\"spacing\" textLength=\"58\" x=\"1891\" y=\"166.616\">Sistema</text><text fill=\"#000000\" font-family=\"sans-serif\" font-size=\"14\" font-style=\"italic\" lengthAdjust=\"spacing\" textLength=\"88\" x=\"1876\" y=\"90.3191\">«Aplicacao»</text></g><g id=\"elem_uc1\"><ellipse cx=\"278.0597\" cy=\"123.606\" fill=\"#F1F1F1\" rx=\"61.5597\" ry=\"14.782\" style=\"stroke:#181818;stroke-width:0.5;\"/><text fill=\"#000000\" font-family=\"sans-serif\" font-size=\"14\" lengthAdjust=\"spacing\" textLength=\"69\" x=\"240.5597\" y=\"127.3535\">Cadastrar</text></g><g id=\"elem_uc2\"><ellipse cx=\"415.1638\" cy=\"123.9052\" fill=\"#F1F1F1\" rx=\"40.6638\" ry=\"14.5812\" style=\"stroke:#181818;stroke-width:0.5;\"/><text fill=\"#000000\" font-family=\"sans-serif\" font-size=\"14\" lengthAdjust=\"spacing\" textLength=\"41\" x=\"392.0122\" y=\"127.5672\">Curtir</text></g><g id=\"elem_uc3\"><ellipse cx=\"536.1374\" cy=\"123.9631\" fill=\"#F1F1F1\" rx=\"45.1374\" ry=\"14.6391\" style=\"stroke:#181818;stroke-width:0.5;\"/><text fill=\"#000000\" font-family=\"sans-serif\" font-size=\"14\" lengthAdjust=\"spacing\" textLength=\"47\" x=\"509.6374\" y=\"127.7107\">Buscar</text></g><g id=\"elem_uc4\"><ellipse cx=\"673.0799\" cy=\"123.5751\" fill=\"#F1F1F1\" rx=\"57.0799\" ry=\"14.7511\" style=\"stroke:#181818;stroke-width:0.5;\"/><text fill=\"#000000\" font-family=\"sans-serif\" font-size=\"14\" lengthAdjust=\"spacing\" textLength=\"63\" x=\"638.5799\" y=\"127.3227\">Bloquear</text></g><g id=\"elem_uc5\"><ellipse cx=\"824.8197\" cy=\"123.5911\" fill=\"#F1F1F1\" rx=\"59.3197\" ry=\"14.7671\" style=\"stroke:#181818;stroke-width:0.5;\"/><text fill=\"#000000\" font-family=\"sans-serif\" font-size=\"14\" lengthAdjust=\"spacing\" textLength=\"66\" x=\"788.8197\" y=\"127.3387\">Usar chat</text></g><g id=\"elem_uc6\"><ellipse cx=\"987.0233\" cy=\"123.7287\" fill=\"#F1F1F1\" rx=\"67.5233\" ry=\"15.9047\" style=\"stroke:#181818;stroke-width:0.5;\"/><text fill=\"#000000\" font-family=\"sans-serif\" font-size=\"14\" lengthAdjust=\"spacing\" textLength=\"86\" x=\"941.0233\" y=\"127.4762\">Editar perfil</text></g><g id=\"elem_uc7\"><ellipse cx=\"1165.7754\" cy=\"123.8791\" fill=\"#F1F1F1\" rx=\"75.7754\" ry=\"17.5551\" style=\"stroke:#181818;stroke-width:0.5;\"/><text fill=\"#000000\" font-family=\"sans-serif\" font-size=\"14\" lengthAdjust=\"spacing\" textLength=\"108\" x=\"1108.7754\" y=\"127.6266\">Remover perfil</text></g><g id=\"elem_uc8\"><ellipse cx=\"111.9086\" cy=\"276.9057\" fill=\"#F1F1F1\" rx=\"105.9086\" ry=\"23.5817\" style=\"stroke:#181818;stroke-width:0.5;\"/><text fill=\"#000000\" font-family=\"sans-serif\" font-size=\"14\" lengthAdjust=\"spacing\" textLength=\"177\" x=\"23.4086\" y=\"279.7524\">Acessar lista de matches</text></g><g id=\"elem_uc9\"><ellipse cx=\"332.0591\" cy=\"276.9358\" fill=\"#F1F1F1\" rx=\"78.5591\" ry=\"18.1118\" style=\"stroke:#181818;stroke-width:0.5;\"/><text fill=\"#000000\" font-family=\"sans-serif\" font-size=\"14\" lengthAdjust=\"spacing\" textLength=\"115\" x=\"272.3328\" y=\"280.4765\">Denunciar perfil</text></g><g id=\"elem_uc10\"><ellipse cx=\"524.9652\" cy=\"277.017\" fill=\"#F1F1F1\" rx=\"78.9652\" ry=\"18.193\" style=\"stroke:#181818;stroke-width:0.5;\"/><text fill=\"#000000\" font-family=\"sans-serif\" font-size=\"14\" lengthAdjust=\"spacing\" textLength=\"116\" x=\"464.9\" y=\"280.5126\">Enviar feedback</text></g><g id=\"elem_uc11\"><ellipse cx=\"1306.1107\" cy=\"276.8461\" fill=\"#F1F1F1\" rx=\"80.6107\" ry=\"18.5221\" style=\"stroke:#181818;stroke-width:0.5;\"/><text fill=\"#000000\" font-family=\"sans-serif\" font-size=\"14\" lengthAdjust=\"spacing\" textLength=\"120\" x=\"1244.6726\" y=\"280.1588\">Assinar premium</text></g><g id=\"elem_uc12\"><ellipse cx=\"1092.1147\" cy=\"276.9469\" fill=\"#F1F1F1\" rx=\"98.6147\" ry=\"22.1229\" style=\"stroke:#181818;stroke-width:0.5;\"/><text fill=\"#000000\" font-family=\"sans-serif\" font-size=\"14\" lengthAdjust=\"spacing\" textLength=\"161\" x=\"1011.6147\" y=\"279.7936\">Conectar redes sociais</text></g><g id=\"elem_uc13\"><ellipse cx=\"850.1701\" cy=\"276.958\" fill=\"#F1F1F1\" rx=\"108.6701\" ry=\"24.134\" style=\"stroke:#181818;stroke-width:0.5;\"/><text fill=\"#000000\" font-family=\"sans-serif\" font-size=\"14\" lengthAdjust=\"spacing\" textLength=\"183\" x=\"758.6701\" y=\"279.8047\">Entrar em modo anonimo</text></g><g id=\"elem_uc14\"><ellipse cx=\"3727.1011\" cy=\"123.9442\" fill=\"#F1F1F1\" rx=\"68.6011\" ry=\"16.1202\" style=\"stroke:#181818;stroke-width:0.5;\"/><text fill=\"#000000\" font-family=\"sans-serif\" font-size=\"14\" lengthAdjust=\"spacing\" textLength=\"89\" x=\"3679.6011\" y=\"127.6918\">Fazer match</text></g><g id=\"elem_uc15\"><ellipse cx=\"3873.1531\" cy=\"123.9253\" fill=\"#F1F1F1\" rx=\"42.1531\" ry=\"14.6013\" style=\"stroke:#181818;stroke-width:0.5;\"/><text fill=\"#000000\" font-family=\"sans-serif\" font-size=\"14\" lengthAdjust=\"spacing\" textLength=\"43\" x=\"3848.6531\" y=\"127.6729\">Filtrar</text></g><g id=\"elem_uc16\"><ellipse cx=\"842.8844\" cy=\"429.8009\" fill=\"#F1F1F1\" rx=\"75.3844\" ry=\"17.4769\" style=\"stroke:#181818;stroke-width:0.5;\"/><text fill=\"#000000\" font-family=\"sans-serif\" font-size=\"14\" lengthAdjust=\"spacing\" textLength=\"107\" x=\"786.3844\" y=\"433.5484\">Destacar perfil</text></g><g id=\"elem_uc17\"><ellipse cx=\"450.8908\" cy=\"429.6022\" fill=\"#F1F1F1\" rx=\"126.8908\" ry=\"27.7782\" style=\"stroke:#181818;stroke-width:0.5;\"/><text fill=\"#000000\" font-family=\"sans-serif\" font-size=\"14\" lengthAdjust=\"spacing\" textLength=\"222\" x=\"339.8908\" y=\"432.4488\">Acessar informacoes adicionais</text></g><g id=\"elem_uc18\"><ellipse cx=\"1768.0678\" cy=\"123.8376\" fill=\"#F1F1F1\" rx=\"73.0678\" ry=\"17.0136\" style=\"stroke:#181818;stroke-width:0.5;\"/><text fill=\"#000000\" font-family=\"sans-serif\" font-size=\"14\" lengthAdjust=\"spacing\" textLength=\"101\" x=\"1714.5678\" y=\"127.5851\">CRUD usuarios</text></g><g id=\"elem_uc19\"><ellipse cx=\"1537.1502\" cy=\"123.754\" fill=\"#F1F1F1\" rx=\"122.6502\" ry=\"26.93\" style=\"stroke:#181818;stroke-width:0.5;\"/><text fill=\"#000000\" font-family=\"sans-serif\" font-size=\"14\" lengthAdjust=\"spacing\" textLength=\"213\" x=\"1430.6502\" y=\"126.6007\">Criar categorias de interesses</text></g><g id=\"elem_uc20\"><ellipse cx=\"3555.1011\" cy=\"123.9442\" fill=\"#F1F1F1\" rx=\"68.6011\" ry=\"16.1202\" style=\"stroke:#181818;stroke-width:0.5;\"/><text fill=\"#000000\" font-family=\"sans-serif\" font-size=\"14\" lengthAdjust=\"spacing\" textLength=\"89\" x=\"3507.6011\" y=\"127.6918\">Fazer match</text></g><g id=\"elem_uc21\"><ellipse cx=\"3371.9652\" cy=\"124.017\" fill=\"#F1F1F1\" rx=\"78.9652\" ry=\"18.193\" style=\"stroke:#181818;stroke-width:0.5;\"/><text fill=\"#000000\" font-family=\"sans-serif\" font-size=\"14\" lengthAdjust=\"spacing\" textLength=\"116\" x=\"3311.9\" y=\"127.5126\">Notificar usuario</text></g><g id=\"elem_uc22\"><ellipse cx=\"3144.2303\" cy=\"124.0701\" fill=\"#F1F1F1\" rx=\"114.2303\" ry=\"25.2461\" style=\"stroke:#181818;stroke-width:0.5;\"/><text fill=\"#000000\" font-family=\"sans-serif\" font-size=\"14\" lengthAdjust=\"spacing\" textLength=\"195\" x=\"3046.7303\" y=\"126.9167\">Gerenciar historico de chat</text></g><g id=\"elem_uc23\"><ellipse cx=\"2905.8518\" cy=\"123.8944\" fill=\"#F1F1F1\" rx=\"88.3518\" ry=\"20.0704\" style=\"stroke:#181818;stroke-width:0.5;\"/><text fill=\"#000000\" font-family=\"sans-serif\" font-size=\"14\" lengthAdjust=\"spacing\" textLength=\"138\" x=\"2836.8518\" y=\"126.741\">Classificar matches</text></g><g id=\"elem_uc24\"><ellipse cx=\"2709.9293\" cy=\"123.6099\" fill=\"#F1F1F1\" rx=\"71.9293\" ry=\"16.7859\" style=\"stroke:#181818;stroke-width:0.5;\"/><text fill=\"#000000\" font-family=\"sans-serif\" font-size=\"14\" lengthAdjust=\"spacing\" textLength=\"98\" x=\"2657.9293\" y=\"127.3574\">Banir usuarios</text></g><g id=\"elem_uc25\"><ellipse cx=\"2520.212\" cy=\"123.7664\" fill=\"#F1F1F1\" rx=\"82.712\" ry=\"18.9424\" style=\"stroke:#181818;stroke-width:0.5;\"/><text fill=\"#000000\" font-family=\"sans-serif\" font-size=\"14\" lengthAdjust=\"spacing\" textLength=\"125\" x=\"2457.0208\" y=\"126.8455\">Congelar usuarios</text></g><g id=\"elem_uc26\"><ellipse cx=\"2321.7839\" cy=\"123.6808\" fill=\"#F1F1F1\" rx=\"79.7839\" ry=\"18.3568\" style=\"stroke:#181818;stroke-width:0.5;\"/><text fill=\"#000000\" font-family=\"sans-serif\" font-size=\"14\" lengthAdjust=\"spacing\" textLength=\"118\" x=\"2261.0356\" y=\"127.0853\">Gerenciar status</text></g><g id=\"elem_uc27\"><ellipse cx=\"2103.0751\" cy=\"124.039\" fill=\"#F1F1F1\" rx=\"104.0751\" ry=\"23.215\" style=\"stroke:#181818;stroke-width:0.5;\"/><text fill=\"#000000\" font-family=\"sans-serif\" font-size=\"14\" lengthAdjust=\"spacing\" textLength=\"173\" x=\"2016.5751\" y=\"126.8857\">Desconto em encontros</text></g><!--reverse link user to premium--><g id=\"link_user_premium\"><path d=\"M673,341.539 C673,360.462 673,364.358 673,383.2646 \" fill=\"none\" id=\"user-backto-premium\" style=\"stroke:#181818;stroke-width:1.0;\"/><polygon fill=\"none\" points=\"673,323.539,667,341.539,679,341.539,673,323.539\" style=\"stroke:#181818;stroke-width:1.0;\"/></g><!--reverse link uc1 to user--><g id=\"link_uc1_user\"><path d=\"M302.3224,141.4327 C317.8294,151.5817 335.478,161.912 357,170.324 C469.473,214.285 514.641,175.036 622,230.324 C628.013,233.421 633.877,237.394 639.359,241.7 \" fill=\"none\" id=\"uc1-backto-user\" style=\"stroke:#181818;stroke-width:1.0;\"/><polygon fill=\"#181818\" points=\"297.302,138.147,302.6421,146.4225,301.4856,140.8851,307.023,139.7287,297.302,138.147\" style=\"stroke:#181818;stroke-width:1.0;\"/></g><!--reverse link uc2 to user--><g id=\"link_uc2_user\"><path d=\"M433.8017,141.5046 C445.2897,151.3506 457.621,160.923 474,170.324 C535.559,205.655 561.744,192.814 622,230.324 C627.943,234.024 633.856,238.435 639.437,243.033 \" fill=\"none\" id=\"uc2-backto-user\" style=\"stroke:#181818;stroke-width:1.0;\"/><polygon fill=\"#181818\" points=\"429.246,137.6,433.4765,146.494,433.0424,140.8538,438.6826,140.4197,429.246,137.6\" style=\"stroke:#181818;stroke-width:1.0;\"/></g><!--reverse link uc3 to user--><g id=\"link_uc3_user\"><path d=\"M551.9497,142.4036 C572.1307,164.6466 609.696,206.051 639.378,238.766 \" fill=\"none\" id=\"uc3-backto-user\" style=\"stroke:#181818;stroke-width:1.0;\"/><polygon fill=\"#181818\" points=\"547.918,137.96,551.0031,147.3132,551.2777,141.663,556.9279,141.9376,547.918,137.96\" style=\"stroke:#181818;stroke-width:1.0;\"/></g><!--reverse link uc4 to user--><g id=\"link_uc4_user\"><path d=\"M673,145.03 C673,165.66 673,198.849 673,230.012 \" fill=\"none\" id=\"uc4-backto-user\" style=\"stroke:#181818;stroke-width:1.0;\"/><polygon fill=\"#181818\" points=\"673,139.03,669,148.03,673,144.03,677,148.03,673,139.03\" style=\"stroke:#181818;stroke-width:1.0;\"/></g><!--reverse link uc5 to user--><g id=\"link_uc5_user\"><path d=\"M806.9863,142.7196 C783.5283,166.0226 739.402,209.859 706.568,242.477 \" fill=\"none\" id=\"uc5-backto-user\" style=\"stroke:#181818;stroke-width:1.0;\"/><polygon fill=\"#181818\" points=\"811.243,138.491,802.0389,141.996,807.6958,142.0148,807.677,147.6716,811.243,138.491\" style=\"stroke:#181818;stroke-width:1.0;\"/></g><!--reverse link uc6 to user--><g id=\"link_uc6_user\"><path d=\"M958.1398,141.8425 C941.3718,151.4485 923.354,161.086 902,170.324 C825.378,203.472 796.166,188.351 724,230.324 C718.051,233.784 712.18,238.012 706.656,242.482 \" fill=\"none\" id=\"uc6-backto-user\" style=\"stroke:#181818;stroke-width:1.0;\"/><polygon fill=\"#181818\" points=\"963.346,138.86,953.5483,139.863,959.0075,141.3454,957.525,146.8046,963.346,138.86\" style=\"stroke:#181818;stroke-width:1.0;\"/></g><!--reverse link uc7 to user--><g id=\"link_uc7_user\"><path d=\"M1134.0074,143.1186 C1115.6374,153.0956 1095.65,162.728 1072,170.324 C922.569,218.317 865.351,162.113 724,230.324 C718.016,233.212 712.209,237.014 706.789,241.191 \" fill=\"none\" id=\"uc7-backto-user\" style=\"stroke:#181818;stroke-width:1.0;\"/><polygon fill=\"#181818\" points=\"1139.28,140.255,1129.4621,141.0354,1134.8862,142.6413,1133.2802,148.0654,1139.28,140.255\" style=\"stroke:#181818;stroke-width:1.0;\"/></g><!--reverse link uc8 to user--><g id=\"link_uc8_user\"><path d=\"M147.9515,250.8149 C175.4275,232.2259 212.484,210.702 253.5,200.324 C329.117,181.192 533.287,168.5 604.5,200.324 C619.149,206.87 631.964,218.269 642.424,230.299 \" fill=\"none\" id=\"uc8-backto-user\" style=\"stroke:#181818;stroke-width:1.0;\"/><polygon fill=\"#181818\" points=\"142.982,254.177,152.6777,252.4468,147.1233,251.3752,148.1948,245.8208,142.982,254.177\" style=\"stroke:#181818;stroke-width:1.0;\"/></g><!--reverse link uc9 to user--><g id=\"link_uc9_user\"><path d=\"M355.0935,255.0471 C376.1695,236.2561 408.003,211.781 445.5,200.324 C513.082,179.675 539.982,171.492 604.5,200.324 C619.149,206.87 631.964,218.269 642.424,230.299 \" fill=\"none\" id=\"uc9-backto-user\" style=\"stroke:#181818;stroke-width:1.0;\"/><polygon fill=\"#181818\" points=\"350.615,259.04,359.9946,256.0363,354.3471,255.7126,354.6707,250.065,350.615,259.04\" style=\"stroke:#181818;stroke-width:1.0;\"/></g><!--reverse link uc10 to user--><g id=\"link_uc10_user\"><path d=\"M610.203,276.824 C621.938,276.824 627.673,276.824 639.408,276.824 \" fill=\"none\" id=\"uc10-backto-user\" style=\"stroke:#181818;stroke-width:1.0;\"/><polygon fill=\"#181818\" points=\"604.203,276.824,613.203,280.824,609.203,276.824,613.203,272.824,604.203,276.824\" style=\"stroke:#181818;stroke-width:1.0;\"/></g><!--link user to uc11--><g id=\"link_user_uc11\"><path d=\"M703.576,230.299 C714.036,218.269 726.851,206.87 741.5,200.324 C832.596,159.615 1094.96,171.553 1190.5,200.324 C1228.27,211.698 1260.5285,235.9499 1282.0785,254.7479 \" fill=\"none\" id=\"user-to-uc11\" style=\"stroke:#181818;stroke-width:1.0;\"/><polygon fill=\"#181818\" points=\"1286.6,258.692,1282.4471,249.7615,1282.8321,255.4052,1277.1883,255.7902,1286.6,258.692\" style=\"stroke:#181818;stroke-width:1.0;\"/></g><!--link user to uc12--><g id=\"link_user_uc12\"><path d=\"M703.576,230.299 C714.036,218.269 726.851,206.87 741.5,200.324 C829.552,160.975 865.301,175.513 958.5,200.324 C998.511,210.975 1034.1563,233.2458 1059.8863,251.9438 \" fill=\"none\" id=\"user-to-uc12\" style=\"stroke:#181818;stroke-width:1.0;\"/><polygon fill=\"#181818\" points=\"1064.74,255.471,1059.8109,246.9444,1060.6952,252.5317,1055.1079,253.416,1064.74,255.471\" style=\"stroke:#181818;stroke-width:1.0;\"/></g><!--link user to uc13--><g id=\"link_user_uc13\"><path d=\"M706.533,276.824 C718.115,276.824 723.697,276.824 735.279,276.824 \" fill=\"none\" id=\"user-to-uc13\" style=\"stroke:#181818;stroke-width:1.0;\"/><polygon fill=\"#181818\" points=\"741.279,276.824,732.279,272.824,736.279,276.824,732.279,280.824,741.279,276.824\" style=\"stroke:#181818;stroke-width:1.0;\"/></g><!--link premium to uc16--><g id=\"link_premium_uc16\"><path d=\"M732.766,429.824 C744.248,429.824 749.731,429.824 761.214,429.824 \" fill=\"none\" id=\"premium-to-uc16\" style=\"stroke:#181818;stroke-width:1.0;\"/><polygon fill=\"#181818\" points=\"767.214,429.824,758.214,425.824,762.214,429.824,758.214,433.824,767.214,429.824\" style=\"stroke:#181818;stroke-width:1.0;\"/></g><!--reverse link uc17 to premium--><g id=\"link_uc17_premium\"><path d=\"M584.043,429.824 C595.789,429.824 601.535,429.824 613.281,429.824 \" fill=\"none\" id=\"uc17-backto-premium\" style=\"stroke:#181818;stroke-width:1.0;\"/><polygon fill=\"#181818\" points=\"578.043,429.824,587.043,433.824,583.043,429.824,587.043,425.824,578.043,429.824\" style=\"stroke:#181818;stroke-width:1.0;\"/></g><!--link adm to uc18--><g id=\"link_adm_uc18\"><path d=\"M1368.66,77.103 C1381.93,65.067 1397.63,53.715 1414.5,47.324 C1516.33,8.755 1555.7,14.412 1659.5,47.324 C1696.41,59.028 1727.2396,84.1945 1747.0796,102.9475 \" fill=\"none\" id=\"adm-to-uc18\" style=\"stroke:#181818;stroke-width:1.0;\"/><polygon fill=\"#181818\" points=\"1751.44,107.069,1747.6471,97.9798,1747.8063,103.6344,1742.1517,103.7937,1751.44,107.069\" style=\"stroke:#181818;stroke-width:1.0;\"/></g><!--link adm to uc19--><g id=\"link_adm_uc19\"><path d=\"M1379.03,123.824 C1390.75,123.824 1396.47,123.824 1408.2,123.824 \" fill=\"none\" id=\"adm-to-uc19\" style=\"stroke:#181818;stroke-width:1.0;\"/><polygon fill=\"#181818\" points=\"1414.2,123.824,1405.2,119.824,1409.2,123.824,1405.2,127.824,1414.2,123.824\" style=\"stroke:#181818;stroke-width:1.0;\"/></g><!--link sistema to uc20--><g id=\"link_sistema_uc20\"><path d=\"M1956.76,77.169 C1968.94,65.136 1983.51,53.768 1999.5,47.324 C2074.32,17.172 3374.88,22.083 3451.5,47.324 C3487.79,59.28 3517.5501,85.1406 3536.1201,103.8226 \" fill=\"none\" id=\"sistema-to-uc20\" style=\"stroke:#181818;stroke-width:1.0;\"/><polygon fill=\"#181818\" points=\"3540.35,108.078,3536.8421,98.875,3536.8251,104.5319,3531.1683,104.5148,3540.35,108.078\" style=\"stroke:#181818;stroke-width:1.0;\"/></g><!--link sistema to uc21--><g id=\"link_sistema_uc21\"><path d=\"M1956.76,77.169 C1968.94,65.136 1983.51,53.768 1999.5,47.324 C2064.37,21.18 3191.61,26.886 3258.5,47.324 C3296,58.781 3327.8312,83.2565 3348.9112,102.0475 \" fill=\"none\" id=\"sistema-to-uc21\" style=\"stroke:#181818;stroke-width:1.0;\"/><polygon fill=\"#181818\" points=\"3353.39,106.04,3349.3334,97.0654,3349.6576,102.7129,3344.0101,103.0371,3353.39,106.04\" style=\"stroke:#181818;stroke-width:1.0;\"/></g><!--link sistema to uc22--><g id=\"link_sistema_uc22\"><path d=\"M1956.76,77.169 C1968.94,65.136 1983.51,53.768 1999.5,47.324 C2102.04,6 2887.02,21.422 2994.5,47.324 C3036.45,57.433 3074.7885,78.2157 3103.9585,96.6577 \" fill=\"none\" id=\"sistema-to-uc22\" style=\"stroke:#181818;stroke-width:1.0;\"/><polygon fill=\"#181818\" points=\"3109.03,99.864,3103.5604,91.6736,3104.8038,97.1921,3099.2853,98.4355,3109.03,99.864\" style=\"stroke:#181818;stroke-width:1.0;\"/></g><!--link sistema to uc23--><g id=\"link_sistema_uc23\"><path d=\"M1956.76,77.169 C1968.94,65.136 1983.51,53.768 1999.5,47.324 C2080.19,14.805 2698.82,23.507 2782.5,47.324 C2821.31,58.371 2855.1674,81.7405 2878.6174,100.5275 \" fill=\"none\" id=\"sistema-to-uc23\" style=\"stroke:#181818;stroke-width:1.0;\"/><polygon fill=\"#181818\" points=\"2883.3,104.279,2878.7771,95.5301,2879.3978,101.1528,2873.7752,101.7735,2883.3,104.279\" style=\"stroke:#181818;stroke-width:1.0;\"/></g><!--link sistema to uc24--><g id=\"link_sistema_uc24\"><path d=\"M1956.76,77.169 C1968.94,65.136 1983.51,53.768 1999.5,47.324 C2061.64,22.281 2538.68,26.933 2602.5,47.324 C2639.16,59.036 2669.6623,84.1766 2689.2823,102.9266 \" fill=\"none\" id=\"sistema-to-uc24\" style=\"stroke:#181818;stroke-width:1.0;\"/><polygon fill=\"#181818\" points=\"2693.62,107.072,2689.877,97.9621,2690.0052,103.6175,2684.3498,103.7457,2693.62,107.072\" style=\"stroke:#181818;stroke-width:1.0;\"/></g><!--link sistema to uc25--><g id=\"link_sistema_uc25\"><path d=\"M1956.76,77.169 C1968.94,65.136 1983.51,53.768 1999.5,47.324 C2082.56,13.85 2316.65,21.839 2402.5,47.324 C2440.54,58.615 2473.2051,82.6482 2495.2451,101.4482 \" fill=\"none\" id=\"sistema-to-uc25\" style=\"stroke:#181818;stroke-width:1.0;\"/><polygon fill=\"#181818\" points=\"2499.81,105.342,2495.5586,96.458,2496.0059,102.0971,2490.3668,102.5445,2499.81,105.342\" style=\"stroke:#181818;stroke-width:1.0;\"/></g><!--link sistema to uc26--><g id=\"link_sistema_uc26\"><path d=\"M1956.76,77.169 C1968.94,65.136 1983.51,53.768 1999.5,47.324 C2085.24,12.77 2119.04,20.491 2207.5,47.324 C2245.02,58.705 2276.9575,82.9332 2298.2975,101.7292 \" fill=\"none\" id=\"sistema-to-uc26\" style=\"stroke:#181818;stroke-width:1.0;\"/><polygon fill=\"#181818\" points=\"2302.8,105.695,2298.6901,96.7447,2299.0479,102.3902,2293.4024,102.748,2302.8,105.695\" style=\"stroke:#181818;stroke-width:1.0;\"/></g><!--link sistema to uc27--><g id=\"link_sistema_uc27\"><path d=\"M1964.32,123.824 C1975.88,123.824 1981.43,123.824 1992.99,123.824 \" fill=\"none\" id=\"sistema-to-uc27\" style=\"stroke:#181818;stroke-width:1.0;\"/><polygon fill=\"#181818\" points=\"1998.99,123.824,1989.99,119.824,1993.99,123.824,1989.99,127.824,1998.99,123.824\" style=\"stroke:#181818;stroke-width:1.0;\"/></g><!--SRC=[TLHDZzem4BtdL_W81wGcaB0WXCH2jxTgjHK_OEeCYzN4Pcrd3rL_V6SSyc7ItlpU6uzddiVUdbq3LXdnQh5MJRqLuCIjNOlTxXMTCx3V9zjxND0RXpOI3sMjj7BUGcbi284otlw3LAmXQAvTatwuLKg214CXIJ8xGWcSnCuvRDR8T4vaOxtgcOoOvyR98MR9J6K-6Xou5N5d1rR8A_YEp8dyMYfFz0tjHLMTK93mXhNvn4TbJSf1KXEqfwAgGPGeQl3oYgwBUQAO4-f6IpN9lE4ZzISB5yJo9yXVVMjVEBTpIlEkrl1U2tqRZPABjLWYcMOel-fFJREGciqIM8lQb4Q0DbhLfWyXPvBP2_ocjaBDlS3slAWgSZhdu1DIZtBIHbgCV53wOcmDqY3VifBAw75TQyvpV3kVQ4h2n0mIEtMqR8O4Z- -6beuDLTgZfUI3f-dcFwLdxDftuzL5SPdt8tgLVVj6kTgxkDADqI7Iy27ZISZOl6C5v7wRv-5Aip1Je9MTD96jsgjvnmh-eUPH0MIcRmQn29FYfD7UyALH52tjQ3kRbxIlwyzYqOq5MS5FGUo8OZ49xo22onYkOfZ7i8ZXEePF37kqYH0DRGz3cOjzDwzZcCMGvx3xKkuKMn66XTFrRVAdSG-WMHaX7eVkrsWf7eG79fqmsOHPJfZLXCadJ35XrlE_]--></g></svg>"
      ],
      "text/plain": [
       "<IPython.core.display.SVG object>"
      ]
     },
     "execution_count": 55,
     "metadata": {},
     "output_type": "execute_result"
    }
   ],
   "source": [
    "%%plantuml\n",
    "\n",
    "@startuml\n",
    "\n",
    ":Usuario Premium: as premium <<Pessoa>>\n",
    ":Usuario: as user <<Pessoa>>\n",
    ":Administrador: as adm <<Pessoa>>\n",
    ":Sistema: as sistema <<Aplicacao>>\n",
    "\n",
    "\n",
    "(Cadastrar) as (uc1)\n",
    "(Curtir) as (uc2)\n",
    "(Buscar) as (uc3)\n",
    "(Bloquear) as (uc4)\n",
    "(Usar chat) as (uc5)\n",
    "(Editar perfil) as (uc6)\n",
    "(Remover perfil) as (uc7)\n",
    "(Acessar lista de matches) as (uc8)\n",
    "(Denunciar perfil) as (uc9)\n",
    "(Enviar feedback) as (uc10)\n",
    "(Assinar premium) as (uc11)\n",
    "(Conectar redes sociais) as (uc12)\n",
    "(Login) as (uc24)\n",
    "\n",
    "(Fazer match) as (uc14)\n",
    "(Notificacao) as (uc15)\n",
    "(Congelar user) as (uc25)\n",
    "(Banir user) as (uc26)\n",
    "\n",
    "(Destacar perfil) as (uc16)\n",
    "(Acessar informacoes adicionais) as (uc17)\n",
    "(Desconto em encontro) as (uc27)\n",
    "\n",
    "(CRUD usuarios) as (uc18)\n",
    "(Criar categorias de interesses) as (uc19)\n",
    "\n",
    "(Gerenciar historico de chat) as (uc22)\n",
    "(Classificar match) as (uc23)\n",
    "\n",
    "user <|-- premium\n",
    "\n",
    "(uc1) <-- user\n",
    "(uc2) <-- user\n",
    "(uc3) <-- user\n",
    "(uc4) <-- user\n",
    "(uc5) <-- user\n",
    "(uc6) <-- user\n",
    "(uc7) <-- user\n",
    "(uc8) <- user\n",
    "(uc9) <- user\n",
    "(uc10) <- user\n",
    "user -> (uc11)\n",
    "user -> (uc12)\n",
    "user -> (uc13)\n",
    "\n",
    "premium -> (uc16)\n",
    "(uc17) <- premium\n",
    "\n",
    "adm -> (uc18)\n",
    "adm -> (uc19)\n",
    "\n",
    "sistema -> (uc20)\n",
    "sistema -> (uc21)\n",
    "sistema -> (uc22)\n",
    "sistema -> (uc23)\n",
    "sistema -> (uc24)\n",
    "sistema -> (uc25)\n",
    "sistema -> (uc26)\n",
    "sistema -> (uc27)\n",
    "\n",
    "\n",
    "@enduml\n"
   ]
  }
 ],
 "metadata": {
  "kernelspec": {
   "display_name": "Python 3",
   "language": "python",
   "name": "python3"
  },
  "language_info": {
   "codemirror_mode": {
    "name": "ipython",
    "version": 3
   },
   "file_extension": ".py",
   "mimetype": "text/x-python",
   "name": "python",
   "nbconvert_exporter": "python",
   "pygments_lexer": "ipython3",
   "version": "3.9.13"
  },
  "orig_nbformat": 4
 },
 "nbformat": 4,
 "nbformat_minor": 2
}
