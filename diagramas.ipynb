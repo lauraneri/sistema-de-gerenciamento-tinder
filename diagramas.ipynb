{
 "cells": [
  {
   "cell_type": "code",
   "execution_count": 2,
   "metadata": {},
   "outputs": [
    {
     "name": "stdout",
     "output_type": "stream",
     "text": [
      "Requirement already satisfied: iplantuml in ./env/lib/python3.11/site-packages (0.1.1)\n",
      "Requirement already satisfied: plantweb in ./env/lib/python3.11/site-packages (from iplantuml) (1.2.1)\n",
      "Requirement already satisfied: six in ./env/lib/python3.11/site-packages (from plantweb->iplantuml) (1.16.0)\n",
      "Requirement already satisfied: requests in ./env/lib/python3.11/site-packages (from plantweb->iplantuml) (2.31.0)\n",
      "Requirement already satisfied: docutils in ./env/lib/python3.11/site-packages (from plantweb->iplantuml) (0.20.1)\n",
      "Requirement already satisfied: charset-normalizer<4,>=2 in ./env/lib/python3.11/site-packages (from requests->plantweb->iplantuml) (3.3.0)\n",
      "Requirement already satisfied: idna<4,>=2.5 in ./env/lib/python3.11/site-packages (from requests->plantweb->iplantuml) (3.4)\n",
      "Requirement already satisfied: urllib3<3,>=1.21.1 in ./env/lib/python3.11/site-packages (from requests->plantweb->iplantuml) (2.0.6)\n",
      "Requirement already satisfied: certifi>=2017.4.17 in ./env/lib/python3.11/site-packages (from requests->plantweb->iplantuml) (2023.7.22)\n",
      "Note: you may need to restart the kernel to use updated packages.\n"
     ]
    }
   ],
   "source": [
    "%pip install iplantuml\n",
    "import iplantuml"
   ]
  },
  {
   "cell_type": "code",
   "execution_count": 21,
   "metadata": {},
   "outputs": [
    {
     "name": "stdout",
     "output_type": "stream",
     "text": [
      "Writing output for /home/lauraneri/Documentos/aUSP/4º semestre/APOO/sistema-de-gerenciamento-tinder/sistema-de-gerenciamento-tinder/93bb6d38-f439-477c-9d8a-ec98b372900c.uml to 93bb6d38-f439-477c-9d8a-ec98b372900c.svg\n"
     ]
    },
    {
     "data": {
      "image/svg+xml": [
       "<svg xmlns=\"http://www.w3.org/2000/svg\" xmlns:xlink=\"http://www.w3.org/1999/xlink\" contentStyleType=\"text/css\" height=\"632px\" preserveAspectRatio=\"none\" style=\"width:1919px;height:632px;background:#FFFFFF;\" version=\"1.1\" viewBox=\"0 0 1919 632\" width=\"1919px\" zoomAndPan=\"magnify\"><defs/><g><!--entity premium--><g id=\"elem_premium\"><ellipse cx=\"1257.5\" cy=\"452.5986\" fill=\"#F1F1F1\" rx=\"8\" ry=\"8\" style=\"stroke:#181818;stroke-width:0.5;\"/><path d=\"M1257.5,460.5986 L1257.5,487.5986 M1244.5,468.5986 L1270.5,468.5986 M1257.5,487.5986 L1244.5,502.5986 M1257.5,487.5986 L1270.5,502.5986 \" fill=\"none\" style=\"stroke:#181818;stroke-width:0.5;\"/><text fill=\"#000000\" font-family=\"sans-serif\" font-size=\"14\" lengthAdjust=\"spacing\" textLength=\"119\" x=\"1198\" y=\"517.0938\">Usuario Premium</text><text fill=\"#000000\" font-family=\"sans-serif\" font-size=\"14\" font-style=\"italic\" lengthAdjust=\"spacing\" textLength=\"67\" x=\"1224\" y=\"440.7969\">«Pessoa»</text></g><!--entity user--><g id=\"elem_user\"><ellipse cx=\"1257.5\" cy=\"298.5986\" fill=\"#F1F1F1\" rx=\"8\" ry=\"8\" style=\"stroke:#181818;stroke-width:0.5;\"/><path d=\"M1257.5,306.5986 L1257.5,333.5986 M1244.5,314.5986 L1270.5,314.5986 M1257.5,333.5986 L1244.5,348.5986 M1257.5,333.5986 L1270.5,348.5986 \" fill=\"none\" style=\"stroke:#181818;stroke-width:0.5;\"/><text fill=\"#000000\" font-family=\"sans-serif\" font-size=\"14\" lengthAdjust=\"spacing\" textLength=\"51\" x=\"1232\" y=\"363.0938\">Usuario</text><text fill=\"#000000\" font-family=\"sans-serif\" font-size=\"14\" font-style=\"italic\" lengthAdjust=\"spacing\" textLength=\"67\" x=\"1224\" y=\"286.7969\">«Pessoa»</text></g><!--entity adm--><g id=\"elem_adm\"><ellipse cx=\"1342.5\" cy=\"32.5986\" fill=\"#F1F1F1\" rx=\"8\" ry=\"8\" style=\"stroke:#181818;stroke-width:0.5;\"/><path d=\"M1342.5,40.5986 L1342.5,67.5986 M1329.5,48.5986 L1355.5,48.5986 M1342.5,67.5986 L1329.5,82.5986 M1342.5,67.5986 L1355.5,82.5986 \" fill=\"none\" style=\"stroke:#181818;stroke-width:0.5;\"/><text fill=\"#000000\" font-family=\"sans-serif\" font-size=\"14\" lengthAdjust=\"spacing\" textLength=\"102\" x=\"1291.5\" y=\"97.0938\">Administrador</text><text fill=\"#000000\" font-family=\"sans-serif\" font-size=\"14\" font-style=\"italic\" lengthAdjust=\"spacing\" textLength=\"67\" x=\"1309\" y=\"20.7969\">«Pessoa»</text></g><!--entity sistema--><g id=\"elem_sistema\"><ellipse cx=\"511.5\" cy=\"298.5986\" fill=\"#F1F1F1\" rx=\"8\" ry=\"8\" style=\"stroke:#181818;stroke-width:0.5;\"/><path d=\"M511.5,306.5986 L511.5,333.5986 M498.5,314.5986 L524.5,314.5986 M511.5,333.5986 L498.5,348.5986 M511.5,333.5986 L524.5,348.5986 \" fill=\"none\" style=\"stroke:#181818;stroke-width:0.5;\"/><text fill=\"#000000\" font-family=\"sans-serif\" font-size=\"14\" lengthAdjust=\"spacing\" textLength=\"58\" x=\"482.5\" y=\"363.0938\">Sistema</text><text fill=\"#000000\" font-family=\"sans-serif\" font-size=\"14\" font-style=\"italic\" lengthAdjust=\"spacing\" textLength=\"88\" x=\"467.5\" y=\"286.7969\">«Aplicacao»</text></g><g id=\"elem_uc1\"><ellipse cx=\"818.5597\" cy=\"195.0837\" fill=\"#F1F1F1\" rx=\"61.5597\" ry=\"14.782\" style=\"stroke:#181818;stroke-width:0.5;\"/><text fill=\"#000000\" font-family=\"sans-serif\" font-size=\"14\" lengthAdjust=\"spacing\" textLength=\"69\" x=\"781.0597\" y=\"198.8313\">Cadastrar</text></g><g id=\"elem_uc2\"><ellipse cx=\"935.6638\" cy=\"54.3829\" fill=\"#F1F1F1\" rx=\"40.6638\" ry=\"14.5812\" style=\"stroke:#181818;stroke-width:0.5;\"/><text fill=\"#000000\" font-family=\"sans-serif\" font-size=\"14\" lengthAdjust=\"spacing\" textLength=\"41\" x=\"912.5122\" y=\"58.0449\">Curtir</text></g><g id=\"elem_uc3\"><ellipse cx=\"960.6374\" cy=\"195.4409\" fill=\"#F1F1F1\" rx=\"45.1374\" ry=\"14.6391\" style=\"stroke:#181818;stroke-width:0.5;\"/><text fill=\"#000000\" font-family=\"sans-serif\" font-size=\"14\" lengthAdjust=\"spacing\" textLength=\"47\" x=\"934.1374\" y=\"199.1884\">Buscar</text></g><g id=\"elem_uc4\"><ellipse cx=\"1097.5799\" cy=\"195.0529\" fill=\"#F1F1F1\" rx=\"57.0799\" ry=\"14.7511\" style=\"stroke:#181818;stroke-width:0.5;\"/><text fill=\"#000000\" font-family=\"sans-serif\" font-size=\"14\" lengthAdjust=\"spacing\" textLength=\"63\" x=\"1063.0799\" y=\"198.8004\">Bloquear</text></g><g id=\"elem_uc5\"><ellipse cx=\"399.3197\" cy=\"195.0689\" fill=\"#F1F1F1\" rx=\"59.3197\" ry=\"14.7671\" style=\"stroke:#181818;stroke-width:0.5;\"/><text fill=\"#000000\" font-family=\"sans-serif\" font-size=\"14\" lengthAdjust=\"spacing\" textLength=\"66\" x=\"363.3197\" y=\"198.8164\">Usar chat</text></g><g id=\"elem_uc6\"><ellipse cx=\"1257.5233\" cy=\"195.2064\" fill=\"#F1F1F1\" rx=\"67.5233\" ry=\"15.9047\" style=\"stroke:#181818;stroke-width:0.5;\"/><text fill=\"#000000\" font-family=\"sans-serif\" font-size=\"14\" lengthAdjust=\"spacing\" textLength=\"86\" x=\"1211.5233\" y=\"198.954\">Editar perfil</text></g><g id=\"elem_uc7\"><ellipse cx=\"1436.2754\" cy=\"195.3568\" fill=\"#F1F1F1\" rx=\"75.7754\" ry=\"17.5551\" style=\"stroke:#181818;stroke-width:0.5;\"/><text fill=\"#000000\" font-family=\"sans-serif\" font-size=\"14\" lengthAdjust=\"spacing\" textLength=\"108\" x=\"1379.2754\" y=\"199.1044\">Remover perfil</text></g><g id=\"elem_uc8\"><ellipse cx=\"1082.4086\" cy=\"320.3835\" fill=\"#F1F1F1\" rx=\"105.9086\" ry=\"23.5817\" style=\"stroke:#181818;stroke-width:0.5;\"/><text fill=\"#000000\" font-family=\"sans-serif\" font-size=\"14\" lengthAdjust=\"spacing\" textLength=\"177\" x=\"993.9086\" y=\"323.2302\">Acessar lista de matches</text></g><g id=\"elem_uc9\"><ellipse cx=\"669.5591\" cy=\"320.4136\" fill=\"#F1F1F1\" rx=\"78.5591\" ry=\"18.1118\" style=\"stroke:#181818;stroke-width:0.5;\"/><text fill=\"#000000\" font-family=\"sans-serif\" font-size=\"14\" lengthAdjust=\"spacing\" textLength=\"115\" x=\"609.8328\" y=\"323.9542\">Denunciar perfil</text></g><g id=\"elem_uc10\"><ellipse cx=\"862.4652\" cy=\"320.4948\" fill=\"#F1F1F1\" rx=\"78.9652\" ry=\"18.193\" style=\"stroke:#181818;stroke-width:0.5;\"/><text fill=\"#000000\" font-family=\"sans-serif\" font-size=\"14\" lengthAdjust=\"spacing\" textLength=\"116\" x=\"802.4\" y=\"323.9903\">Enviar feedback</text></g><g id=\"elem_uc11\"><ellipse cx=\"1406.6107\" cy=\"320.3239\" fill=\"#F1F1F1\" rx=\"80.6107\" ry=\"18.5221\" style=\"stroke:#181818;stroke-width:0.5;\"/><text fill=\"#000000\" font-family=\"sans-serif\" font-size=\"14\" lengthAdjust=\"spacing\" textLength=\"120\" x=\"1345.1726\" y=\"323.6365\">Assinar premium</text></g><g id=\"elem_uc12\"><ellipse cx=\"1734.6147\" cy=\"320.4247\" fill=\"#F1F1F1\" rx=\"98.6147\" ry=\"22.1229\" style=\"stroke:#181818;stroke-width:0.5;\"/><text fill=\"#000000\" font-family=\"sans-serif\" font-size=\"14\" lengthAdjust=\"spacing\" textLength=\"161\" x=\"1654.1147\" y=\"323.2714\">Conectar redes sociais</text></g><g id=\"elem_uc24\"><ellipse cx=\"1561.6869\" cy=\"320.3652\" fill=\"#F1F1F1\" rx=\"39.1869\" ry=\"14.5634\" style=\"stroke:#181818;stroke-width:0.5;\"/><text fill=\"#000000\" font-family=\"sans-serif\" font-size=\"14\" lengthAdjust=\"spacing\" textLength=\"39\" x=\"1540.0666\" y=\"323.8894\">Login</text></g><g id=\"elem_uc14\"><ellipse cx=\"236.6011\" cy=\"195.422\" fill=\"#F1F1F1\" rx=\"68.6011\" ry=\"16.1202\" style=\"stroke:#181818;stroke-width:0.5;\"/><text fill=\"#000000\" font-family=\"sans-serif\" font-size=\"14\" lengthAdjust=\"spacing\" textLength=\"89\" x=\"189.1011\" y=\"199.1695\">Fazer match</text></g><g id=\"elem_uc15\"><ellipse cx=\"606.2655\" cy=\"195.3549\" fill=\"#F1F1F1\" rx=\"65.7655\" ry=\"15.5531\" style=\"stroke:#181818;stroke-width:0.5;\"/><text fill=\"#000000\" font-family=\"sans-serif\" font-size=\"14\" lengthAdjust=\"spacing\" textLength=\"81\" x=\"562.7655\" y=\"199.1024\">Notificacao</text></g><g id=\"elem_uc25\"><ellipse cx=\"1681.4293\" cy=\"54.0876\" fill=\"#F1F1F1\" rx=\"71.9293\" ry=\"16.7859\" style=\"stroke:#181818;stroke-width:0.5;\"/><text fill=\"#000000\" font-family=\"sans-serif\" font-size=\"14\" lengthAdjust=\"spacing\" textLength=\"98\" x=\"1629.4293\" y=\"57.8352\">Congelar user</text></g><g id=\"elem_uc26\"><ellipse cx=\"1851.4096\" cy=\"54.1837\" fill=\"#F1F1F1\" rx=\"62.4096\" ry=\"14.8819\" style=\"stroke:#181818;stroke-width:0.5;\"/><text fill=\"#000000\" font-family=\"sans-serif\" font-size=\"14\" lengthAdjust=\"spacing\" textLength=\"71\" x=\"1812.9096\" y=\"57.9312\">Banir user</text></g><g id=\"elem_uc16\"><ellipse cx=\"1427.3844\" cy=\"474.2786\" fill=\"#F1F1F1\" rx=\"75.3844\" ry=\"17.4769\" style=\"stroke:#181818;stroke-width:0.5;\"/><text fill=\"#000000\" font-family=\"sans-serif\" font-size=\"14\" lengthAdjust=\"spacing\" textLength=\"107\" x=\"1370.8844\" y=\"478.0262\">Destacar perfil</text></g><g id=\"elem_uc17\"><ellipse cx=\"1035.3908\" cy=\"474.0799\" fill=\"#F1F1F1\" rx=\"126.8908\" ry=\"27.7782\" style=\"stroke:#181818;stroke-width:0.5;\"/><text fill=\"#000000\" font-family=\"sans-serif\" font-size=\"14\" lengthAdjust=\"spacing\" textLength=\"222\" x=\"924.3908\" y=\"476.9266\">Acessar informacoes adicionais</text></g><g id=\"elem_uc27\"><ellipse cx=\"1257.3822\" cy=\"604.3782\" fill=\"#F1F1F1\" rx=\"100.8822\" ry=\"22.5764\" style=\"stroke:#181818;stroke-width:0.5;\"/><text fill=\"#000000\" font-family=\"sans-serif\" font-size=\"14\" lengthAdjust=\"spacing\" textLength=\"166\" x=\"1174.3822\" y=\"607.2249\">Desconto em encontro</text></g><g id=\"elem_uc18\"><ellipse cx=\"1501.5678\" cy=\"54.3153\" fill=\"#F1F1F1\" rx=\"73.0678\" ry=\"17.0136\" style=\"stroke:#181818;stroke-width:0.5;\"/><text fill=\"#000000\" font-family=\"sans-serif\" font-size=\"14\" lengthAdjust=\"spacing\" textLength=\"101\" x=\"1448.0678\" y=\"58.0629\">CRUD usuarios</text></g><g id=\"elem_uc19\"><ellipse cx=\"1133.6502\" cy=\"54.2318\" fill=\"#F1F1F1\" rx=\"122.6502\" ry=\"26.93\" style=\"stroke:#181818;stroke-width:0.5;\"/><text fill=\"#000000\" font-family=\"sans-serif\" font-size=\"14\" lengthAdjust=\"spacing\" textLength=\"213\" x=\"1027.1502\" y=\"57.0785\">Criar categorias de interesses</text></g><g id=\"elem_uc22\"><ellipse cx=\"318.7303\" cy=\"320.5478\" fill=\"#F1F1F1\" rx=\"114.2303\" ry=\"25.2461\" style=\"stroke:#181818;stroke-width:0.5;\"/><text fill=\"#000000\" font-family=\"sans-serif\" font-size=\"14\" lengthAdjust=\"spacing\" textLength=\"195\" x=\"221.2303\" y=\"323.3945\">Gerenciar historico de chat</text></g><g id=\"elem_uc23\"><ellipse cx=\"87.4455\" cy=\"320.4909\" fill=\"#F1F1F1\" rx=\"81.4455\" ry=\"18.6891\" style=\"stroke:#181818;stroke-width:0.5;\"/><text fill=\"#000000\" font-family=\"sans-serif\" font-size=\"14\" lengthAdjust=\"spacing\" textLength=\"122\" x=\"25.3109\" y=\"323.7107\">Classificar match</text></g><!--reverse link user to premium--><g id=\"link_user_premium\"><path d=\"M1257.5,384.9068 C1257.5,404.1448 1257.5,408.4938 1257.5,427.7288 \" fill=\"none\" id=\"user-backto-premium\" style=\"stroke:#181818;stroke-width:1.0;\"/><polygon fill=\"none\" points=\"1257.5,366.9068,1251.5,384.9068,1263.5,384.9068,1257.5,366.9068\" style=\"stroke:#181818;stroke-width:1.0;\"/></g><!--reverse link uc1 to user--><g id=\"link_uc1_user\"><path d=\"M869.0605,206.9454 C880.2595,209.2824 886.379,210.5388 897.5,212.8018 C965.873,226.7128 1142.89,243.0028 1205.5,273.8018 C1211.85,276.9258 1218.04,281.0268 1223.8,285.4878 \" fill=\"none\" id=\"uc1-backto-user\" style=\"stroke:#181818;stroke-width:1.0;\"/><polygon fill=\"#181818\" points=\"863.187,205.7198,871.1801,211.4739,868.0816,206.7412,872.8143,203.6426,863.187,205.7198\" style=\"stroke:#181818;stroke-width:1.0;\"/></g><!--reverse link uc3 to user--><g id=\"link_uc3_user\"><path d=\"M998.1315,207.2772 C1060.0675,225.4402 1186.55,263.1358 1205.5,273.8018 C1211.77,277.3318 1217.96,281.7068 1223.76,286.3358 \" fill=\"none\" id=\"uc3-backto-user\" style=\"stroke:#181818;stroke-width:1.0;\"/><polygon fill=\"#181818\" points=\"992.374,205.5888,999.8847,211.9597,997.1719,206.9958,1002.1359,204.283,992.374,205.5888\" style=\"stroke:#181818;stroke-width:1.0;\"/></g><!--reverse link uc4 to user--><g id=\"link_uc4_user\"><path d=\"M1121.9845,212.859 C1143.9445,227.859 1175.49,249.9928 1205.5,273.8018 C1211.51,278.5728 1217.77,283.8028 1223.77,288.9628 \" fill=\"none\" id=\"uc4-backto-user\" style=\"stroke:#181818;stroke-width:1.0;\"/><polygon fill=\"#181818\" points=\"1117.03,209.4748,1122.2056,217.8541,1121.1587,212.2949,1126.7179,211.2481,1117.03,209.4748\" style=\"stroke:#181818;stroke-width:1.0;\"/></g><!--reverse link uc5 to user--><g id=\"link_uc5_user\"><path d=\"M455.3523,204.3299 C477.6833,207.4229 498.411,210.1118 522.5,212.8018 C673.941,229.7138 1065.38,213.9068 1205.5,273.8018 C1211.9,276.5368 1218.07,280.3678 1223.78,284.6578 \" fill=\"none\" id=\"uc5-backto-user\" style=\"stroke:#181818;stroke-width:1.0;\"/><polygon fill=\"#181818\" points=\"449.409,203.5068,457.7751,208.7037,454.3617,204.1927,458.8727,200.7794,449.409,203.5068\" style=\"stroke:#181818;stroke-width:1.0;\"/></g><!--reverse link uc6 to user--><g id=\"link_uc6_user\"><path d=\"M1257.5,217.3838 C1257.5,232.8438 1257.5,251.6608 1257.5,273.5998 \" fill=\"none\" id=\"uc6-backto-user\" style=\"stroke:#181818;stroke-width:1.0;\"/><polygon fill=\"#181818\" points=\"1257.5,211.3838,1253.5,220.3838,1257.5,216.3838,1261.5,220.3838,1257.5,211.3838\" style=\"stroke:#181818;stroke-width:1.0;\"/></g><!--reverse link uc7 to user--><g id=\"link_uc7_user\"><path d=\"M1402.5786,214.558 C1375.9786,229.259 1340.99,249.7928 1308.5,273.8018 C1302.68,278.1038 1296.74,282.9388 1291.06,287.8088 \" fill=\"none\" id=\"uc7-backto-user\" style=\"stroke:#181818;stroke-width:1.0;\"/><polygon fill=\"#181818\" points=\"1407.83,211.6558,1398.0181,212.5082,1403.4539,214.0743,1401.8878,219.5101,1407.83,211.6558\" style=\"stroke:#181818;stroke-width:1.0;\"/></g><!--reverse link uc2 to user--><g id=\"link_uc2_user\"><path d=\"M952.3355,72.5302 C963.2865,83.0982 975.848,93.2568 993.5,100.8018 C1104.15,148.0988 1450.69,86.8638 1529.5,177.8018 C1539.69,189.5568 1538.92,200.4248 1529.5,212.8018 C1467.77,293.8728 1397.98,225.0498 1308.5,273.8018 C1302.56,277.0378 1296.74,281.0888 1291.27,285.4308 \" fill=\"none\" id=\"uc2-backto-user\" style=\"stroke:#181818;stroke-width:1.0;\"/><polygon fill=\"#181818\" points=\"948.018,68.3638,951.7166,77.4918,951.6159,71.8358,957.2718,71.7351,948.018,68.3638\" style=\"stroke:#181818;stroke-width:1.0;\"/></g><!--reverse link uc8 to user--><g id=\"link_uc8_user\"><path d=\"M1194.8,320.3018 C1206.52,320.3018 1212.24,320.3018 1223.95,320.3018 \" fill=\"none\" id=\"uc8-backto-user\" style=\"stroke:#181818;stroke-width:1.0;\"/><polygon fill=\"#181818\" points=\"1188.8,320.3018,1197.8,324.3018,1193.8,320.3018,1197.8,316.3018,1188.8,320.3018\" style=\"stroke:#181818;stroke-width:1.0;\"/></g><!--reverse link uc9 to user--><g id=\"link_uc9_user\"><path d=\"M692.1698,298.7319 C713.1678,279.8249 745.216,254.9088 783,243.3018 C869.032,216.8728 1105.76,206.7448 1188,243.3018 C1202.81,249.8848 1215.8,261.3558 1226.41,273.4648 \" fill=\"none\" id=\"uc9-backto-user\" style=\"stroke:#181818;stroke-width:1.0;\"/><polygon fill=\"#181818\" points=\"687.711,302.7468,697.0758,299.6971,691.4267,299.4011,691.7227,293.752,687.711,302.7468\" style=\"stroke:#181818;stroke-width:1.0;\"/></g><!--reverse link uc10 to user--><g id=\"link_uc10_user\"><path d=\"M885.1698,298.7319 C906.1678,279.8249 938.216,254.9088 976,243.3018 C1066.07,215.6328 1101.9,205.0298 1188,243.3018 C1202.81,249.8848 1215.8,261.3558 1226.41,273.4648 \" fill=\"none\" id=\"uc10-backto-user\" style=\"stroke:#181818;stroke-width:1.0;\"/><polygon fill=\"#181818\" points=\"880.711,302.7468,890.0758,299.6971,884.4267,299.4011,884.7227,293.752,880.711,302.7468\" style=\"stroke:#181818;stroke-width:1.0;\"/></g><!--link user to uc11--><g id=\"link_user_uc11\"><path d=\"M1291.26,320.3018 C1302.81,320.3018 1308.37,320.3018 1319.92,320.3018 \" fill=\"none\" id=\"user-to-uc11\" style=\"stroke:#181818;stroke-width:1.0;\"/><polygon fill=\"#181818\" points=\"1325.92,320.3018,1316.92,316.3018,1320.92,320.3018,1316.92,324.3018,1325.92,320.3018\" style=\"stroke:#181818;stroke-width:1.0;\"/></g><!--link user to uc12--><g id=\"link_user_uc12\"><path d=\"M1288.02,273.4788 C1298.48,261.3698 1311.31,249.8958 1326,243.3018 C1381.55,218.3698 1541.16,227.6498 1600,243.3018 C1640.43,254.0568 1676.5168,276.6278 1702.4268,295.4628 \" fill=\"none\" id=\"user-to-uc12\" style=\"stroke:#181818;stroke-width:1.0;\"/><polygon fill=\"#181818\" points=\"1707.28,298.9908,1702.3522,290.4633,1703.2357,296.0508,1697.6482,296.9343,1707.28,298.9908\" style=\"stroke:#181818;stroke-width:1.0;\"/></g><!--link user to uc24--><g id=\"link_user_uc24\"><path d=\"M1288.02,273.4788 C1298.48,261.3698 1311.31,249.8958 1326,243.3018 C1391.28,214.0018 1421.12,215.3738 1487,243.3018 C1516.97,256.0068 1537.5072,282.295 1549.5772,300.841 \" fill=\"none\" id=\"user-to-uc24\" style=\"stroke:#181818;stroke-width:1.0;\"/><polygon fill=\"#181818\" points=\"1552.85,305.8698,1551.2933,296.1447,1550.1227,301.6791,1544.5883,300.5084,1552.85,305.8698\" style=\"stroke:#181818;stroke-width:1.0;\"/></g><!--link uc2 to uc14--><g id=\"link_uc2_uc14\"><path d=\"M895.827,57.3518 C804.964,62.7898 575.367,80.7558 390.5,130.8018 C344.58,143.2328 299.4884,163.2953 269.2594,177.9163 \" fill=\"none\" id=\"uc2-to-uc14\" style=\"stroke:#181818;stroke-width:1.0;\"/><polygon fill=\"#181818\" points=\"263.858,180.5288,273.7017,180.2109,268.3591,178.3517,270.2184,173.0091,263.858,180.5288\" style=\"stroke:#181818;stroke-width:1.0;\"/></g><!--link uc14 to uc15--><g id=\"link_uc14_uc15\"><path d=\"M263.27,180.5648 C302.769,160.5768 379.209,128.5798 446,139.8018 C492.958,147.6918 539.0372,165.3325 570.7242,179.0405 \" fill=\"none\" id=\"uc14-to-uc15\" style=\"stroke:#181818;stroke-width:1.0;\"/><polygon fill=\"#181818\" points=\"576.231,181.4228,569.559,174.1782,571.642,179.4375,566.3826,181.5205,576.231,181.4228\" style=\"stroke:#181818;stroke-width:1.0;\"/><text fill=\"#000000\" font-family=\"sans-serif\" font-size=\"13\" lengthAdjust=\"spacing\" textLength=\"45\" x=\"400\" y=\"143.8687\">include</text></g><!--link uc5 to uc15--><g id=\"link_uc5_uc15\"><path d=\"M459.095,195.3018 C484.535,195.3018 508.32,195.3018 534.431,195.3018 \" fill=\"none\" id=\"uc5-to-uc15\" style=\"stroke:#181818;stroke-width:1.0;\"/><polygon fill=\"#181818\" points=\"540.431,195.3018,531.431,191.3018,535.431,195.3018,531.431,199.3018,540.431,195.3018\" style=\"stroke:#181818;stroke-width:1.0;\"/><text fill=\"#000000\" font-family=\"sans-serif\" font-size=\"13\" lengthAdjust=\"spacing\" textLength=\"45\" x=\"477.25\" y=\"188.3687\">include</text></g><!--reverse link uc5 to uc23--><g id=\"link_uc5_uc23\"><path d=\"M359.9236,209.6097 C317.6226,224.0217 248.922,248.1518 186.5,273.8018 C164.28,282.9328 139.741,294.2018 120.653,303.2408 \" fill=\"none\" id=\"uc5-backto-uc23\" style=\"stroke:#181818;stroke-width:1.0;\"/><polygon fill=\"#181818\" points=\"365.603,207.6748,355.7939,206.791,360.8701,209.2872,358.3739,214.3635,365.603,207.6748\" style=\"stroke:#181818;stroke-width:1.0;\"/></g><!--link uc14 to uc23--><g id=\"link_uc14_uc23\"><path d=\"M218.823,210.8948 C191.071,233.8038 142.0481,274.272 112.6401,298.549 \" fill=\"none\" id=\"uc14-to-uc23\" style=\"stroke:#181818;stroke-width:1.0;\"/><polygon fill=\"#181818\" points=\"108.013,302.3688,117.5001,299.7238,111.8689,299.1856,112.4071,293.5544,108.013,302.3688\" style=\"stroke:#181818;stroke-width:1.0;\"/></g><!--link premium to uc16--><g id=\"link_premium_uc16\"><path d=\"M1317.27,474.3018 C1328.75,474.3018 1334.23,474.3018 1345.71,474.3018 \" fill=\"none\" id=\"premium-to-uc16\" style=\"stroke:#181818;stroke-width:1.0;\"/><polygon fill=\"#181818\" points=\"1351.71,474.3018,1342.71,470.3018,1346.71,474.3018,1342.71,478.3018,1351.71,474.3018\" style=\"stroke:#181818;stroke-width:1.0;\"/></g><!--reverse link uc17 to premium--><g id=\"link_uc17_premium\"><path d=\"M1168.54,474.3018 C1180.29,474.3018 1186.03,474.3018 1197.78,474.3018 \" fill=\"none\" id=\"uc17-backto-premium\" style=\"stroke:#181818;stroke-width:1.0;\"/><polygon fill=\"#181818\" points=\"1162.54,474.3018,1171.54,478.3018,1167.54,474.3018,1171.54,470.3018,1162.54,474.3018\" style=\"stroke:#181818;stroke-width:1.0;\"/></g><!--link premium to uc27--><g id=\"link_premium_uc27\"><path d=\"M1257.5,521.1508 C1257.5,541.8108 1257.5,559.2213 1257.5,575.7512 \" fill=\"none\" id=\"premium-to-uc27\" style=\"stroke:#181818;stroke-width:1.0;\"/><polygon fill=\"#181818\" points=\"1257.5,581.7512,1261.5,572.7512,1257.5,576.7512,1253.5,572.7512,1257.5,581.7512\" style=\"stroke:#181818;stroke-width:1.0;\"/></g><!--link adm to uc18--><g id=\"link_adm_uc18\"><path d=\"M1393.74,54.3018 C1405.25,54.3018 1410.75,54.3018 1422.26,54.3018 \" fill=\"none\" id=\"adm-to-uc18\" style=\"stroke:#181818;stroke-width:1.0;\"/><polygon fill=\"#181818\" points=\"1428.26,54.3018,1419.26,50.3018,1423.26,54.3018,1419.26,58.3018,1428.26,54.3018\" style=\"stroke:#181818;stroke-width:1.0;\"/></g><!--reverse link uc19 to adm--><g id=\"link_uc19_adm\"><path d=\"M1262.37,54.3018 C1274.03,54.3018 1279.7,54.3018 1291.36,54.3018 \" fill=\"none\" id=\"uc19-backto-adm\" style=\"stroke:#181818;stroke-width:1.0;\"/><polygon fill=\"#181818\" points=\"1256.37,54.3018,1265.37,58.3018,1261.37,54.3018,1265.37,50.3018,1256.37,54.3018\" style=\"stroke:#181818;stroke-width:1.0;\"/></g><!--reverse link uc22 to sistema--><g id=\"link_uc22_sistema\"><path d=\"M438.717,320.3018 C450.309,320.3018 455.9,320.3018 467.492,320.3018 \" fill=\"none\" id=\"uc22-backto-sistema\" style=\"stroke:#181818;stroke-width:1.0;\"/><polygon fill=\"#181818\" points=\"432.717,320.3018,441.717,324.3018,437.717,320.3018,441.717,316.3018,432.717,320.3018\" style=\"stroke:#181818;stroke-width:1.0;\"/></g><!--link sistema to uc23--><g id=\"link_sistema_uc23\"><path d=\"M475.193,273.7518 C462.938,261.4908 448.207,249.8638 432,243.3018 C338.073,205.2718 301.043,214.1298 204,243.3018 C165.923,254.7478 133.3467,279.1916 111.5977,298.1126 \" fill=\"none\" id=\"sistema-to-uc23\" style=\"stroke:#181818;stroke-width:1.0;\"/><polygon fill=\"#181818\" points=\"107.071,302.0508,116.4865,299.1614,110.8433,298.769,111.2357,293.1258,107.071,302.0508\" style=\"stroke:#181818;stroke-width:1.0;\"/></g><!--SRC=[TLJBRjim4BphAtXq3WPg9POVC0muTjjBKGGf_04RScqJbKY7b78e-l7T9KLQSj2Jk3Fxd5reVVGTE6t5YyD6TyrQW1VN-1QRpGjwRs6xBTQzN-0xZsv4xbIZZVQj0sLTS04r3lz5B3OGE1_VnE-kjPOWmP9BKKpse82Jk0TsctHoza1WvrgTaPAGvyxBcyyZ8xLzx_26FH5szE24l42Rm3c1NvLk2RwYE-aw4HKHhzZO3xnd5iJi90r1CJLr3KAXQA2L5_J9Pqa-1pITaVfJvXMND1zCd13L6yZVURGldDjxRJWg2fwvCBSrABbPXmf9D4lvTQuwOo5-sBCsMHaQkfXyWpyqHMWnkx8QFsshJr7hZCzZbJFML8LtcbCnymn6ty4LLpWWwI0_ZJgh1bffSxAk0McHBq5BRSsmzqMGp4jhMYkm4MZuwN9dvO8BxL-F1weVpkuMotBl7IigeSMpfQVdhMZJegFgjyNCLfpbEw5nDHTQ8BbBo-x3moXPotqDj0oMw4w-aWwiY1V_TpfDgwBCV9vYGn2JmNuSsE4AH-PyR5PZSp4sox6vP3DRgv55bvJDqETqcuveQ9OZawybbfdsV0JeamAetpN9AkjEOT___nbkjXShPUaBiNn5-gFq2Qhe5MREYcQVFf2FW7yZVSmoniJP2G-Abq6dz4Sfqfybb_u7]--></g></svg>"
      ],
      "text/plain": [
       "<IPython.core.display.SVG object>"
      ]
     },
     "execution_count": 21,
     "metadata": {},
     "output_type": "execute_result"
    }
   ],
   "source": [
    "%%plantuml\n",
    "\n",
    "@startuml\n",
    "\n",
    ":Usuario Premium: as premium <<Pessoa>>\n",
    ":Usuario: as user <<Pessoa>>\n",
    ":Administrador: as adm <<Pessoa>>\n",
    ":Sistema: as sistema <<Aplicacao>>\n",
    "\n",
    "\n",
    "(Cadastrar) as (uc1)\n",
    "(Curtir) as (uc2)\n",
    "(Buscar) as (uc3)\n",
    "(Bloquear) as (uc4)\n",
    "(Usar chat) as (uc5)\n",
    "(Editar perfil) as (uc6)\n",
    "(Remover perfil) as (uc7)\n",
    "(Acessar lista de matches) as (uc8)\n",
    "(Denunciar perfil) as (uc9)\n",
    "(Enviar feedback) as (uc10)\n",
    "(Assinar premium) as (uc11)\n",
    "(Conectar redes sociais) as (uc12)\n",
    "(Login) as (uc24)\n",
    "\n",
    "(Fazer match) as (uc14)\n",
    "(Notificacao) as (uc15)\n",
    "(Congelar user) as (uc25)\n",
    "(Banir user) as (uc26)\n",
    "\n",
    "(Destacar perfil) as (uc16)\n",
    "(Acessar informacoes adicionais) as (uc17)\n",
    "(Desconto em encontro) as (uc27)\n",
    "\n",
    "(CRUD usuarios) as (uc18)\n",
    "(Criar categorias de interesses) as (uc19)\n",
    "\n",
    "(Gerenciar historico de chat) as (uc22)\n",
    "(Classificar match) as (uc23)\n",
    "\n",
    "user <|-- premium\n",
    "\n",
    "(uc1) <-- user\n",
    "(uc2) <-- user\n",
    "(uc3) <-- user\n",
    "(uc4) <-- user\n",
    "(uc5) <-- user\n",
    "(uc6) <-- user\n",
    "(uc7) <-- user\n",
    "(uc8) <- user\n",
    "(uc9) <- user\n",
    "(uc10) <- user\n",
    "user -> (uc11)\n",
    "user -> (uc12)\n",
    "user -> (uc24)\n",
    "(uc2) --> (uc14)\n",
    "(uc14) -> (uc15) : include\n",
    "(uc5) -> (uc15) : include\n",
    "(uc5) <-- (uc23)\n",
    "(uc14) --> (uc23)\n",
    "\n",
    "\n",
    "premium -> (uc16)\n",
    "(uc17) <- premium\n",
    "premium --> (uc27)\n",
    "\n",
    "adm -> (uc18)\n",
    "(uc19) <- adm\n",
    "\n",
    "(uc22) <- sistema\n",
    "sistema -> (uc23)\n",
    "\n",
    "\n",
    "@enduml\n"
   ]
  },
  {
   "cell_type": "code",
   "execution_count": null,
   "metadata": {},
   "outputs": [],
   "source": [
    "%%plantuml\n",
    "\n"
   ]
  }
 ],
 "metadata": {
  "kernelspec": {
   "display_name": "Python 3",
   "language": "python",
   "name": "python3"
  },
  "language_info": {
   "codemirror_mode": {
    "name": "ipython",
    "version": 3
   },
   "file_extension": ".py",
   "mimetype": "text/x-python",
   "name": "python",
   "nbconvert_exporter": "python",
   "pygments_lexer": "ipython3",
   "version": "3.11.4"
  },
  "orig_nbformat": 4
 },
 "nbformat": 4,
 "nbformat_minor": 2
}
