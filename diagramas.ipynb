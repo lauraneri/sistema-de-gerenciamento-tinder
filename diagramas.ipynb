{
 "cells": [
  {
   "cell_type": "code",
   "execution_count": 2,
   "metadata": {},
   "outputs": [
    {
     "name": "stdout",
     "output_type": "stream",
     "text": [
      "Requirement already satisfied: iplantuml in ./env/lib/python3.11/site-packages (0.1.1)\n",
      "Requirement already satisfied: plantweb in ./env/lib/python3.11/site-packages (from iplantuml) (1.2.1)\n",
      "Requirement already satisfied: six in ./env/lib/python3.11/site-packages (from plantweb->iplantuml) (1.16.0)\n",
      "Requirement already satisfied: requests in ./env/lib/python3.11/site-packages (from plantweb->iplantuml) (2.31.0)\n",
      "Requirement already satisfied: docutils in ./env/lib/python3.11/site-packages (from plantweb->iplantuml) (0.20.1)\n",
      "Requirement already satisfied: charset-normalizer<4,>=2 in ./env/lib/python3.11/site-packages (from requests->plantweb->iplantuml) (3.3.0)\n",
      "Requirement already satisfied: idna<4,>=2.5 in ./env/lib/python3.11/site-packages (from requests->plantweb->iplantuml) (3.4)\n",
      "Requirement already satisfied: urllib3<3,>=1.21.1 in ./env/lib/python3.11/site-packages (from requests->plantweb->iplantuml) (2.0.6)\n",
      "Requirement already satisfied: certifi>=2017.4.17 in ./env/lib/python3.11/site-packages (from requests->plantweb->iplantuml) (2023.7.22)\n",
      "Note: you may need to restart the kernel to use updated packages.\n"
     ]
    }
   ],
   "source": [
    "%pip install iplantuml\n",
    "import iplantuml"
   ]
  },
  {
   "cell_type": "code",
   "execution_count": 11,
   "metadata": {},
   "outputs": [
    {
     "name": "stdout",
     "output_type": "stream",
     "text": [
      "Writing output for /home/lauraneri/Documentos/aUSP/4º semestre/APOO/sistema-de-gerenciamento-tinder/sistema-de-gerenciamento-tinder/58dd7f8e-f155-4e0e-9ea4-97543fe01d5b.uml to 58dd7f8e-f155-4e0e-9ea4-97543fe01d5b.svg\n"
     ]
    },
    {
     "data": {
      "image/svg+xml": [
       "<svg xmlns=\"http://www.w3.org/2000/svg\" xmlns:xlink=\"http://www.w3.org/1999/xlink\" contentStyleType=\"text/css\" height=\"429px\" preserveAspectRatio=\"none\" style=\"width:2876px;height:429px;background:#FFFFFF;\" version=\"1.1\" viewBox=\"0 0 2876 429\" width=\"2876px\" zoomAndPan=\"magnify\"><defs/><g><!--entity premium--><g id=\"elem_premium\"><ellipse cx=\"1596.5\" cy=\"356.5986\" fill=\"#F1F1F1\" rx=\"8\" ry=\"8\" style=\"stroke:#181818;stroke-width:0.5;\"/><path d=\"M1596.5,364.5986 L1596.5,391.5986 M1583.5,372.5986 L1609.5,372.5986 M1596.5,391.5986 L1583.5,406.5986 M1596.5,391.5986 L1609.5,406.5986 \" fill=\"none\" style=\"stroke:#181818;stroke-width:0.5;\"/><text fill=\"#000000\" font-family=\"sans-serif\" font-size=\"14\" lengthAdjust=\"spacing\" textLength=\"119\" x=\"1537\" y=\"421.0938\">Usuario Premium</text><text fill=\"#000000\" font-family=\"sans-serif\" font-size=\"14\" font-style=\"italic\" lengthAdjust=\"spacing\" textLength=\"67\" x=\"1563\" y=\"344.7969\">«Pessoa»</text></g><!--entity user--><g id=\"elem_user\"><ellipse cx=\"1596.5\" cy=\"202.5986\" fill=\"#F1F1F1\" rx=\"8\" ry=\"8\" style=\"stroke:#181818;stroke-width:0.5;\"/><path d=\"M1596.5,210.5986 L1596.5,237.5986 M1583.5,218.5986 L1609.5,218.5986 M1596.5,237.5986 L1583.5,252.5986 M1596.5,237.5986 L1609.5,252.5986 \" fill=\"none\" style=\"stroke:#181818;stroke-width:0.5;\"/><text fill=\"#000000\" font-family=\"sans-serif\" font-size=\"14\" lengthAdjust=\"spacing\" textLength=\"51\" x=\"1571\" y=\"267.0938\">Usuario</text><text fill=\"#000000\" font-family=\"sans-serif\" font-size=\"14\" font-style=\"italic\" lengthAdjust=\"spacing\" textLength=\"67\" x=\"1563\" y=\"190.7969\">«Pessoa»</text></g><!--entity adm--><g id=\"elem_adm\"><ellipse cx=\"2299.5\" cy=\"32.5986\" fill=\"#F1F1F1\" rx=\"8\" ry=\"8\" style=\"stroke:#181818;stroke-width:0.5;\"/><path d=\"M2299.5,40.5986 L2299.5,67.5986 M2286.5,48.5986 L2312.5,48.5986 M2299.5,67.5986 L2286.5,82.5986 M2299.5,67.5986 L2312.5,82.5986 \" fill=\"none\" style=\"stroke:#181818;stroke-width:0.5;\"/><text fill=\"#000000\" font-family=\"sans-serif\" font-size=\"14\" lengthAdjust=\"spacing\" textLength=\"102\" x=\"2248.5\" y=\"97.0938\">Administrador</text><text fill=\"#000000\" font-family=\"sans-serif\" font-size=\"14\" font-style=\"italic\" lengthAdjust=\"spacing\" textLength=\"67\" x=\"2266\" y=\"20.7969\">«Pessoa»</text></g><!--entity sistema--><g id=\"elem_sistema\"><ellipse cx=\"850.5\" cy=\"202.5986\" fill=\"#F1F1F1\" rx=\"8\" ry=\"8\" style=\"stroke:#181818;stroke-width:0.5;\"/><path d=\"M850.5,210.5986 L850.5,237.5986 M837.5,218.5986 L863.5,218.5986 M850.5,237.5986 L837.5,252.5986 M850.5,237.5986 L863.5,252.5986 \" fill=\"none\" style=\"stroke:#181818;stroke-width:0.5;\"/><text fill=\"#000000\" font-family=\"sans-serif\" font-size=\"14\" lengthAdjust=\"spacing\" textLength=\"58\" x=\"821.5\" y=\"267.0938\">Sistema</text><text fill=\"#000000\" font-family=\"sans-serif\" font-size=\"14\" font-style=\"italic\" lengthAdjust=\"spacing\" textLength=\"88\" x=\"806.5\" y=\"190.7969\">«Aplicacao»</text></g><g id=\"elem_uc1\"><ellipse cx=\"1596.5597\" cy=\"54.0837\" fill=\"#F1F1F1\" rx=\"61.5597\" ry=\"14.782\" style=\"stroke:#181818;stroke-width:0.5;\"/><text fill=\"#000000\" font-family=\"sans-serif\" font-size=\"14\" lengthAdjust=\"spacing\" textLength=\"69\" x=\"1559.0597\" y=\"57.8313\">Cadastrar</text></g><g id=\"elem_uc2\"><ellipse cx=\"298.6638\" cy=\"54.3829\" fill=\"#F1F1F1\" rx=\"40.6638\" ry=\"14.5812\" style=\"stroke:#181818;stroke-width:0.5;\"/><text fill=\"#000000\" font-family=\"sans-serif\" font-size=\"14\" lengthAdjust=\"spacing\" textLength=\"41\" x=\"275.5122\" y=\"58.0449\">Curtir</text></g><g id=\"elem_uc3\"><ellipse cx=\"1738.6374\" cy=\"54.4409\" fill=\"#F1F1F1\" rx=\"45.1374\" ry=\"14.6391\" style=\"stroke:#181818;stroke-width:0.5;\"/><text fill=\"#000000\" font-family=\"sans-serif\" font-size=\"14\" lengthAdjust=\"spacing\" textLength=\"47\" x=\"1712.1374\" y=\"58.1884\">Buscar</text></g><g id=\"elem_uc4\"><ellipse cx=\"1875.5799\" cy=\"54.0529\" fill=\"#F1F1F1\" rx=\"57.0799\" ry=\"14.7511\" style=\"stroke:#181818;stroke-width:0.5;\"/><text fill=\"#000000\" font-family=\"sans-serif\" font-size=\"14\" lengthAdjust=\"spacing\" textLength=\"63\" x=\"1841.0799\" y=\"57.8004\">Bloquear</text></g><g id=\"elem_uc5\"><ellipse cx=\"154.3197\" cy=\"54.0689\" fill=\"#F1F1F1\" rx=\"59.3197\" ry=\"14.7671\" style=\"stroke:#181818;stroke-width:0.5;\"/><text fill=\"#000000\" font-family=\"sans-serif\" font-size=\"14\" lengthAdjust=\"spacing\" textLength=\"66\" x=\"118.3197\" y=\"57.8164\">Usar chat</text></g><g id=\"elem_uc6\"><ellipse cx=\"1244.5233\" cy=\"54.2064\" fill=\"#F1F1F1\" rx=\"67.5233\" ry=\"15.9047\" style=\"stroke:#181818;stroke-width:0.5;\"/><text fill=\"#000000\" font-family=\"sans-serif\" font-size=\"14\" lengthAdjust=\"spacing\" textLength=\"86\" x=\"1198.5233\" y=\"57.954\">Editar perfil</text></g><g id=\"elem_uc7\"><ellipse cx=\"1423.2754\" cy=\"54.3568\" fill=\"#F1F1F1\" rx=\"75.7754\" ry=\"17.5551\" style=\"stroke:#181818;stroke-width:0.5;\"/><text fill=\"#000000\" font-family=\"sans-serif\" font-size=\"14\" lengthAdjust=\"spacing\" textLength=\"108\" x=\"1366.2754\" y=\"58.1044\">Remover perfil</text></g><g id=\"elem_uc8\"><ellipse cx=\"1035.4086\" cy=\"224.3835\" fill=\"#F1F1F1\" rx=\"105.9086\" ry=\"23.5817\" style=\"stroke:#181818;stroke-width:0.5;\"/><text fill=\"#000000\" font-family=\"sans-serif\" font-size=\"14\" lengthAdjust=\"spacing\" textLength=\"177\" x=\"946.9086\" y=\"227.2302\">Acessar lista de matches</text></g><g id=\"elem_uc9\"><ellipse cx=\"1255.5591\" cy=\"224.4136\" fill=\"#F1F1F1\" rx=\"78.5591\" ry=\"18.1118\" style=\"stroke:#181818;stroke-width:0.5;\"/><text fill=\"#000000\" font-family=\"sans-serif\" font-size=\"14\" lengthAdjust=\"spacing\" textLength=\"115\" x=\"1195.8328\" y=\"227.9542\">Denunciar perfil</text></g><g id=\"elem_uc10\"><ellipse cx=\"1448.4652\" cy=\"224.4948\" fill=\"#F1F1F1\" rx=\"78.9652\" ry=\"18.193\" style=\"stroke:#181818;stroke-width:0.5;\"/><text fill=\"#000000\" font-family=\"sans-serif\" font-size=\"14\" lengthAdjust=\"spacing\" textLength=\"116\" x=\"1388.4\" y=\"227.9903\">Enviar feedback</text></g><g id=\"elem_uc11\"><ellipse cx=\"2091.6107\" cy=\"224.3239\" fill=\"#F1F1F1\" rx=\"80.6107\" ry=\"18.5221\" style=\"stroke:#181818;stroke-width:0.5;\"/><text fill=\"#000000\" font-family=\"sans-serif\" font-size=\"14\" lengthAdjust=\"spacing\" textLength=\"120\" x=\"2030.1726\" y=\"227.6365\">Assinar premium</text></g><g id=\"elem_uc12\"><ellipse cx=\"1877.6147\" cy=\"224.4247\" fill=\"#F1F1F1\" rx=\"98.6147\" ry=\"22.1229\" style=\"stroke:#181818;stroke-width:0.5;\"/><text fill=\"#000000\" font-family=\"sans-serif\" font-size=\"14\" lengthAdjust=\"spacing\" textLength=\"161\" x=\"1797.1147\" y=\"227.2714\">Conectar redes sociais</text></g><g id=\"elem_uc24\"><ellipse cx=\"1704.6869\" cy=\"224.3652\" fill=\"#F1F1F1\" rx=\"39.1869\" ry=\"14.5634\" style=\"stroke:#181818;stroke-width:0.5;\"/><text fill=\"#000000\" font-family=\"sans-serif\" font-size=\"14\" lengthAdjust=\"spacing\" textLength=\"39\" x=\"1683.0666\" y=\"227.8894\">Login</text></g><g id=\"elem_uc14\"><ellipse cx=\"74.6011\" cy=\"224.422\" fill=\"#F1F1F1\" rx=\"68.6011\" ry=\"16.1202\" style=\"stroke:#181818;stroke-width:0.5;\"/><text fill=\"#000000\" font-family=\"sans-serif\" font-size=\"14\" lengthAdjust=\"spacing\" textLength=\"89\" x=\"27.1011\" y=\"228.1695\">Fazer match</text></g><g id=\"elem_uc15\"><ellipse cx=\"442.2655\" cy=\"224.3549\" fill=\"#F1F1F1\" rx=\"65.7655\" ry=\"15.5531\" style=\"stroke:#181818;stroke-width:0.5;\"/><text fill=\"#000000\" font-family=\"sans-serif\" font-size=\"14\" lengthAdjust=\"spacing\" textLength=\"81\" x=\"398.7655\" y=\"228.1024\">Notificacao</text></g><g id=\"elem_uc25\"><ellipse cx=\"2638.4293\" cy=\"54.0876\" fill=\"#F1F1F1\" rx=\"71.9293\" ry=\"16.7859\" style=\"stroke:#181818;stroke-width:0.5;\"/><text fill=\"#000000\" font-family=\"sans-serif\" font-size=\"14\" lengthAdjust=\"spacing\" textLength=\"98\" x=\"2586.4293\" y=\"57.8352\">Congelar user</text></g><g id=\"elem_uc26\"><ellipse cx=\"2808.4096\" cy=\"54.1837\" fill=\"#F1F1F1\" rx=\"62.4096\" ry=\"14.8819\" style=\"stroke:#181818;stroke-width:0.5;\"/><text fill=\"#000000\" font-family=\"sans-serif\" font-size=\"14\" lengthAdjust=\"spacing\" textLength=\"71\" x=\"2769.9096\" y=\"57.9312\">Banir user</text></g><g id=\"elem_uc16\"><ellipse cx=\"1766.3844\" cy=\"378.2786\" fill=\"#F1F1F1\" rx=\"75.3844\" ry=\"17.4769\" style=\"stroke:#181818;stroke-width:0.5;\"/><text fill=\"#000000\" font-family=\"sans-serif\" font-size=\"14\" lengthAdjust=\"spacing\" textLength=\"107\" x=\"1709.8844\" y=\"382.0262\">Destacar perfil</text></g><g id=\"elem_uc17\"><ellipse cx=\"1374.3908\" cy=\"378.0799\" fill=\"#F1F1F1\" rx=\"126.8908\" ry=\"27.7782\" style=\"stroke:#181818;stroke-width:0.5;\"/><text fill=\"#000000\" font-family=\"sans-serif\" font-size=\"14\" lengthAdjust=\"spacing\" textLength=\"222\" x=\"1263.3908\" y=\"380.9266\">Acessar informacoes adicionais</text></g><g id=\"elem_uc27\"><ellipse cx=\"2638.3822\" cy=\"224.3782\" fill=\"#F1F1F1\" rx=\"100.8822\" ry=\"22.5764\" style=\"stroke:#181818;stroke-width:0.5;\"/><text fill=\"#000000\" font-family=\"sans-serif\" font-size=\"14\" lengthAdjust=\"spacing\" textLength=\"166\" x=\"2555.3822\" y=\"227.2249\">Desconto em encontro</text></g><g id=\"elem_uc18\"><ellipse cx=\"2458.5678\" cy=\"54.3153\" fill=\"#F1F1F1\" rx=\"73.0678\" ry=\"17.0136\" style=\"stroke:#181818;stroke-width:0.5;\"/><text fill=\"#000000\" font-family=\"sans-serif\" font-size=\"14\" lengthAdjust=\"spacing\" textLength=\"101\" x=\"2405.0678\" y=\"58.0629\">CRUD usuarios</text></g><g id=\"elem_uc19\"><ellipse cx=\"2090.6502\" cy=\"54.2318\" fill=\"#F1F1F1\" rx=\"122.6502\" ry=\"26.93\" style=\"stroke:#181818;stroke-width:0.5;\"/><text fill=\"#000000\" font-family=\"sans-serif\" font-size=\"14\" lengthAdjust=\"spacing\" textLength=\"213\" x=\"1984.1502\" y=\"57.0785\">Criar categorias de interesses</text></g><g id=\"elem_uc22\"><ellipse cx=\"657.7303\" cy=\"224.5478\" fill=\"#F1F1F1\" rx=\"114.2303\" ry=\"25.2461\" style=\"stroke:#181818;stroke-width:0.5;\"/><text fill=\"#000000\" font-family=\"sans-serif\" font-size=\"14\" lengthAdjust=\"spacing\" textLength=\"195\" x=\"560.2303\" y=\"227.3945\">Gerenciar historico de chat</text></g><g id=\"elem_uc23\"><ellipse cx=\"259.4455\" cy=\"224.4909\" fill=\"#F1F1F1\" rx=\"81.4455\" ry=\"18.6891\" style=\"stroke:#181818;stroke-width:0.5;\"/><text fill=\"#000000\" font-family=\"sans-serif\" font-size=\"14\" lengthAdjust=\"spacing\" textLength=\"122\" x=\"197.3109\" y=\"227.7107\">Classificar match</text></g><!--reverse link user to premium--><g id=\"link_user_premium\"><path d=\"M1596.5,288.9068 C1596.5,308.1448 1596.5,312.4938 1596.5,331.729 \" fill=\"none\" id=\"user-backto-premium\" style=\"stroke:#181818;stroke-width:1.0;\"/><polygon fill=\"none\" points=\"1596.5,270.9068,1590.5,288.9068,1602.5,288.9068,1596.5,270.9068\" style=\"stroke:#181818;stroke-width:1.0;\"/></g><!--reverse link uc1 to user--><g id=\"link_uc1_user\"><path d=\"M1596.5,75.3368 C1596.5,98.9158 1596.5,141.4638 1596.5,177.7758 \" fill=\"none\" id=\"uc1-backto-user\" style=\"stroke:#181818;stroke-width:1.0;\"/><polygon fill=\"#181818\" points=\"1596.5,69.3368,1592.5,78.3368,1596.5,74.3368,1600.5,78.3368,1596.5,69.3368\" style=\"stroke:#181818;stroke-width:1.0;\"/></g><!--reverse link uc2 to user--><g id=\"link_uc2_user\"><path d=\"M298.5754,75.0678 C299.2364,95.9958 303.736,129.3288 328.5,147.8018 C382.665,188.2078 1481.54,153.2548 1544.5,177.8018 C1550.98,180.3288 1557.2,184.0468 1562.93,188.2858 \" fill=\"none\" id=\"uc2-backto-user\" style=\"stroke:#181818;stroke-width:1.0;\"/><polygon fill=\"#181818\" points=\"298.386,69.0708,294.6721,78.1925,298.5438,74.0683,302.6681,77.94,298.386,69.0708\" style=\"stroke:#181818;stroke-width:1.0;\"/></g><!--reverse link uc3 to user--><g id=\"link_uc3_user\"><path d=\"M1723.4868,73.0672 C1702.8268,97.5102 1661.69,146.1718 1630.26,183.3548 \" fill=\"none\" id=\"uc3-backto-user\" style=\"stroke:#181818;stroke-width:1.0;\"/><polygon fill=\"#181818\" points=\"1727.36,68.4848,1718.4953,72.7762,1724.1323,72.3034,1724.6051,77.9405,1727.36,68.4848\" style=\"stroke:#181818;stroke-width:1.0;\"/></g><!--reverse link uc4 to user--><g id=\"link_uc4_user\"><path d=\"M1849.6634,71.681 C1834.7434,81.015 1819.15,90.4718 1800.5,100.8018 C1733.91,137.6838 1710.44,134.9838 1647.5,177.8018 C1641.61,181.8058 1635.68,186.4328 1630.06,191.1708 \" fill=\"none\" id=\"uc4-backto-user\" style=\"stroke:#181818;stroke-width:1.0;\"/><polygon fill=\"#181818\" points=\"1854.75,68.4988,1844.9986,69.881,1850.5112,71.1506,1849.2416,76.6631,1854.75,68.4988\" style=\"stroke:#181818;stroke-width:1.0;\"/></g><!--reverse link uc5 to user--><g id=\"link_uc5_user\"><path d=\"M175.2079,72.7797 C201.6729,94.3617 252.377,131.7108 307.5,147.8018 C439.477,186.3268 1416.4,127.8878 1544.5,177.8018 C1550.98,180.3278 1557.2,184.0448 1562.93,188.2828 \" fill=\"none\" id=\"uc5-backto-user\" style=\"stroke:#181818;stroke-width:1.0;\"/><polygon fill=\"#181818\" points=\"170.558,68.9878,175.0048,77.7756,174.4329,72.1477,180.0608,71.5757,170.558,68.9878\" style=\"stroke:#181818;stroke-width:1.0;\"/></g><!--reverse link uc6 to user--><g id=\"link_uc6_user\"><path d=\"M1273.7875,72.3815 C1290.5575,81.9045 1308.39,91.4318 1329.5,100.8018 C1422.27,141.9758 1457,126.3708 1544.5,177.8018 C1550.81,181.5098 1557.06,186.0338 1562.93,190.7748 \" fill=\"none\" id=\"uc6-backto-user\" style=\"stroke:#181818;stroke-width:1.0;\"/><polygon fill=\"#181818\" points=\"1268.57,69.4188,1274.421,77.3412,1272.9179,71.8877,1278.3714,70.3846,1268.57,69.4188\" style=\"stroke:#181818;stroke-width:1.0;\"/></g><!--reverse link uc7 to user--><g id=\"link_uc7_user\"><path d=\"M1444.3942,75.5909 C1472.5542,102.9389 1525.94,154.7838 1562.84,190.6158 \" fill=\"none\" id=\"uc7-backto-user\" style=\"stroke:#181818;stroke-width:1.0;\"/><polygon fill=\"#181818\" points=\"1440.09,71.4108,1443.7596,80.5504,1443.6769,74.8942,1449.3331,74.8115,1440.09,71.4108\" style=\"stroke:#181818;stroke-width:1.0;\"/></g><!--reverse link uc8 to user--><g id=\"link_uc8_user\"><path d=\"M1067.6642,197.9294 C1094.7242,177.0954 1133.51,151.3618 1177,139.3018 C1251.95,118.5208 1456.72,105.9838 1527,139.3018 C1544.4,147.5488 1558.88,162.5198 1570.05,177.6238 \" fill=\"none\" id=\"uc8-backto-user\" style=\"stroke:#181818;stroke-width:1.0;\"/><polygon fill=\"#181818\" points=\"1062.91,201.5898,1072.4815,199.2687,1066.8718,198.5395,1067.601,192.9298,1062.91,201.5898\" style=\"stroke:#181818;stroke-width:1.0;\"/></g><!--reverse link uc9 to user--><g id=\"link_uc9_user\"><path d=\"M1276.0826,202.1624 C1296.4726,181.3854 1329.29,152.5218 1369,139.3018 C1435.63,117.1188 1463.55,109.2208 1527,139.3018 C1544.4,147.5488 1558.88,162.5198 1570.05,177.6238 \" fill=\"none\" id=\"uc9-backto-user\" style=\"stroke:#181818;stroke-width:1.0;\"/><polygon fill=\"#181818\" points=\"1271.88,206.4448,1281.0387,202.823,1275.3821,202.8761,1275.329,197.2195,1271.88,206.4448\" style=\"stroke:#181818;stroke-width:1.0;\"/></g><!--reverse link uc10 to user--><g id=\"link_uc10_user\"><path d=\"M1533.7,224.3018 C1545.44,224.3018 1551.17,224.3018 1562.91,224.3018 \" fill=\"none\" id=\"uc10-backto-user\" style=\"stroke:#181818;stroke-width:1.0;\"/><polygon fill=\"#181818\" points=\"1527.7,224.3018,1536.7,228.3018,1532.7,224.3018,1536.7,220.3018,1527.7,224.3018\" style=\"stroke:#181818;stroke-width:1.0;\"/></g><!--link user to uc11--><g id=\"link_user_uc11\"><path d=\"M1622.44,177.6398 C1633.43,162.5358 1647.73,147.5628 1665,139.3018 C1727.34,109.4748 1910.34,117.7448 1976,139.3018 C2015.98,152.4258 2049.2587,181.0318 2070.1487,201.8368 \" fill=\"none\" id=\"user-to-uc11\" style=\"stroke:#181818;stroke-width:1.0;\"/><polygon fill=\"#181818\" points=\"2074.4,206.0708,2070.8457,196.8856,2070.8573,202.5424,2065.2004,202.554,2074.4,206.0708\" style=\"stroke:#181818;stroke-width:1.0;\"/></g><!--link user to uc12--><g id=\"link_user_uc12\"><path d=\"M1622.44,177.6398 C1633.43,162.5358 1647.73,147.5628 1665,139.3018 C1696.27,124.3408 1709.7,129.6618 1743,139.3018 C1785.45,151.5918 1822.7389,177.9201 1848.2089,198.7891 \" fill=\"none\" id=\"user-to-uc12\" style=\"stroke:#181818;stroke-width:1.0;\"/><polygon fill=\"#181818\" points=\"1852.85,202.5918,1848.4235,193.7937,1848.9824,199.4228,1843.3533,199.9818,1852.85,202.5918\" style=\"stroke:#181818;stroke-width:1.0;\"/></g><!--link user to uc24--><g id=\"link_user_uc24\"><path d=\"M1630.25,224.3018 C1641.95,224.3018 1647.65,224.3018 1659.34,224.3018 \" fill=\"none\" id=\"user-to-uc24\" style=\"stroke:#181818;stroke-width:1.0;\"/><polygon fill=\"#181818\" points=\"1665.34,224.3018,1656.34,220.3018,1660.34,224.3018,1656.34,228.3018,1665.34,224.3018\" style=\"stroke:#181818;stroke-width:1.0;\"/></g><!--link uc2 to uc14--><g id=\"link_uc2_uc14\"><path d=\"M288.022,68.4388 C272.355,87.5188 241.256,123.2928 209.5,147.8018 C191.005,162.0758 140.6071,189.0554 106.8091,206.6484 \" fill=\"none\" id=\"uc2-to-uc14\" style=\"stroke:#181818;stroke-width:1.0;\"/><polygon fill=\"#181818\" points=\"101.487,209.4188,111.3171,208.8113,105.9221,207.1101,107.6233,201.7151,101.487,209.4188\" style=\"stroke:#181818;stroke-width:1.0;\"/></g><!--link uc14 to uc15--><g id=\"link_uc14_uc15\"><path d=\"M98.0526,209.0268 C114.844,198.7838 138.289,185.7578 160.5,177.8018 C206.316,161.3898 332.986,124.0368 377,144.8018 C404.98,158.0028 422.2614,184.3583 432.3384,203.5033 \" fill=\"none\" id=\"uc14-to-uc15\" style=\"stroke:#181818;stroke-width:1.0;\"/><polygon fill=\"#181818\" points=\"435.133,208.8128,434.4807,198.9855,432.8041,204.3882,427.4014,202.7117,435.133,208.8128\" style=\"stroke:#181818;stroke-width:1.0;\"/><text fill=\"#000000\" font-family=\"sans-serif\" font-size=\"13\" lengthAdjust=\"spacing\" textLength=\"45\" x=\"331\" y=\"143.8687\">include</text></g><!--link uc5 to uc15--><g id=\"link_uc5_uc15\"><path d=\"M148.741,69.4708 C141.644,89.4958 132.678,126.0548 151.5,147.8018 C181.919,182.9468 314.382,163.1728 358.5,177.8018 C381.484,185.4228 400.4992,195.9482 416.9582,206.3372 \" fill=\"none\" id=\"uc5-to-uc15\" style=\"stroke:#181818;stroke-width:1.0;\"/><polygon fill=\"#181818\" points=\"422.032,209.5398,416.5564,201.3533,417.8038,206.8709,412.2862,208.1184,422.032,209.5398\" style=\"stroke:#181818;stroke-width:1.0;\"/><text fill=\"#000000\" font-family=\"sans-serif\" font-size=\"13\" lengthAdjust=\"spacing\" textLength=\"45\" x=\"152.5\" y=\"143.8687\">include</text></g><!--reverse link uc5 to uc23--><g id=\"link_uc5_uc23\"><path d=\"M137.7097,73.7133 C121.9007,92.3993 102.9174,121.7818 118.5,147.8018 C124.617,158.0158 185.818,188.4288 225.554,207.3928 \" fill=\"none\" id=\"uc5-backto-uc23\" style=\"stroke:#181818;stroke-width:1.0;\"/><polygon fill=\"#181818\" points=\"141.585,69.1328,132.7183,73.4201,138.3556,72.9499,138.8257,78.5872,141.585,69.1328\" style=\"stroke:#181818;stroke-width:1.0;\"/></g><!--link uc14 to uc23--><g id=\"link_uc14_uc23\"><path d=\"M143.152,224.3018 C154.666,224.3018 160.179,224.3018 171.693,224.3018 \" fill=\"none\" id=\"uc14-to-uc23\" style=\"stroke:#181818;stroke-width:1.0;\"/><polygon fill=\"#181818\" points=\"177.693,224.3018,168.693,220.3018,172.693,224.3018,168.693,228.3018,177.693,224.3018\" style=\"stroke:#181818;stroke-width:1.0;\"/></g><!--link premium to uc16--><g id=\"link_premium_uc16\"><path d=\"M1656.27,378.3018 C1667.75,378.3018 1673.23,378.3018 1684.71,378.3018 \" fill=\"none\" id=\"premium-to-uc16\" style=\"stroke:#181818;stroke-width:1.0;\"/><polygon fill=\"#181818\" points=\"1690.71,378.3018,1681.71,374.3018,1685.71,378.3018,1681.71,382.3018,1690.71,378.3018\" style=\"stroke:#181818;stroke-width:1.0;\"/></g><!--reverse link uc17 to premium--><g id=\"link_uc17_premium\"><path d=\"M1507.54,378.3018 C1519.29,378.3018 1525.03,378.3018 1536.78,378.3018 \" fill=\"none\" id=\"uc17-backto-premium\" style=\"stroke:#181818;stroke-width:1.0;\"/><polygon fill=\"#181818\" points=\"1501.54,378.3018,1510.54,382.3018,1506.54,378.3018,1510.54,374.3018,1501.54,378.3018\" style=\"stroke:#181818;stroke-width:1.0;\"/></g><!--link adm to uc18--><g id=\"link_adm_uc18\"><path d=\"M2350.74,54.3018 C2362.25,54.3018 2367.75,54.3018 2379.26,54.3018 \" fill=\"none\" id=\"adm-to-uc18\" style=\"stroke:#181818;stroke-width:1.0;\"/><polygon fill=\"#181818\" points=\"2385.26,54.3018,2376.26,50.3018,2380.26,54.3018,2376.26,58.3018,2385.26,54.3018\" style=\"stroke:#181818;stroke-width:1.0;\"/></g><!--reverse link uc19 to adm--><g id=\"link_uc19_adm\"><path d=\"M2219.37,54.3018 C2231.03,54.3018 2236.7,54.3018 2248.36,54.3018 \" fill=\"none\" id=\"uc19-backto-adm\" style=\"stroke:#181818;stroke-width:1.0;\"/><polygon fill=\"#181818\" points=\"2213.37,54.3018,2222.37,58.3018,2218.37,54.3018,2222.37,50.3018,2213.37,54.3018\" style=\"stroke:#181818;stroke-width:1.0;\"/></g><!--reverse link uc22 to sistema--><g id=\"link_uc22_sistema\"><path d=\"M777.717,224.3018 C789.309,224.3018 794.9,224.3018 806.492,224.3018 \" fill=\"none\" id=\"uc22-backto-sistema\" style=\"stroke:#181818;stroke-width:1.0;\"/><polygon fill=\"#181818\" points=\"771.717,224.3018,780.717,228.3018,776.717,224.3018,780.717,220.3018,771.717,224.3018\" style=\"stroke:#181818;stroke-width:1.0;\"/></g><!--link sistema to uc23--><g id=\"link_sistema_uc23\"><path d=\"M818.948,177.4878 C806.045,162.3698 789.721,147.4258 771,139.3018 C690.477,104.3598 459.454,112.0928 376,139.3018 C335.772,152.4178 302.1585,181.0472 281.0545,201.8552 \" fill=\"none\" id=\"sistema-to-uc23\" style=\"stroke:#181818;stroke-width:1.0;\"/><polygon fill=\"#181818\" points=\"276.782,206.0678,285.9991,202.5972,280.3424,202.5573,280.3824,196.9006,276.782,206.0678\" style=\"stroke:#181818;stroke-width:1.0;\"/></g><!--SRC=[TLJBRjim4BphAtXq3WPg9POVC0muTjjBKGGf_05RScqJaKY7b78e-l7T9INATD2Jk3Fxd5reVVGTE6t5YyD6TyrQW1VN-1QRpGjwRs6xBTQzN-0xZouZTwhHHllMWR8kk83AmtyHYmq4piStyRjhhIL8iEHI59CzAE0axe7T9fsSFH3OkLOdf2JakVDoz7bafBRl7OxO4s573qx82xG3E2Vmgz8jmLTq9rqFH4N4ApRs0- -P1J4xIKDGJ4rTWr0e6cZb1VtWioIV0vhEIFqfyufBcWycJeZgDyYtDDeNpkszDXmL1KzScDiQbDoiGuKacgNyEbMTiH0_x5cRf0mDNKo-mH-Q8hION5cDdxRLfwXrmkUnoXbhgi8xJQcOUGQZx-2AAnoGT92VHfrLDrffSxAk0McHBq5BRSrjxuiWcPVMj5PW8z3mqwNEoWKNshyU3rG_dDqOotBl7IigeSMpfQVdhMZJegFgus9cAyxodT2ucWijaDobPVVRmoXPotqDj0oMw4w-aWwiY1V_TpeTLaMP-Jp5XY0cYt2RcVcOcq-vES_DAZSNkRbaCrchpA93IcPeSxeTRkZMB3EJZoLsFEtv2D1d2A06rwIgh3k5VSF_PxZPNgiiIn2l6FudVNmLdSACevxyn-WTbj4Xpabu4BiCyWu_ZsBuYQGw_m00]--></g></svg>"
      ],
      "text/plain": [
       "<IPython.core.display.SVG object>"
      ]
     },
     "execution_count": 11,
     "metadata": {},
     "output_type": "execute_result"
    }
   ],
   "source": [
    "%%plantuml\n",
    "\n",
    "@startuml\n",
    "\n",
    ":Usuario Premium: as premium <<Pessoa>>\n",
    ":Usuario: as user <<Pessoa>>\n",
    ":Administrador: as adm <<Pessoa>>\n",
    ":Sistema: as sistema <<Aplicacao>>\n",
    "\n",
    "\n",
    "(Cadastrar) as (uc1)\n",
    "(Curtir) as (uc2)\n",
    "(Buscar) as (uc3)\n",
    "(Bloquear) as (uc4)\n",
    "(Usar chat) as (uc5)\n",
    "(Editar perfil) as (uc6)\n",
    "(Remover perfil) as (uc7)\n",
    "(Acessar lista de matches) as (uc8)\n",
    "(Denunciar perfil) as (uc9)\n",
    "(Enviar feedback) as (uc10)\n",
    "(Assinar premium) as (uc11)\n",
    "(Conectar redes sociais) as (uc12)\n",
    "(Login) as (uc24)\n",
    "\n",
    "(Fazer match) as (uc14)\n",
    "(Notificacao) as (uc15)\n",
    "(Congelar user) as (uc25)\n",
    "(Banir user) as (uc26)\n",
    "\n",
    "(Destacar perfil) as (uc16)\n",
    "(Acessar informacoes adicionais) as (uc17)\n",
    "(Desconto em encontro) as (uc27)\n",
    "\n",
    "(CRUD usuarios) as (uc18)\n",
    "(Criar categorias de interesses) as (uc19)\n",
    "\n",
    "(Gerenciar historico de chat) as (uc22)\n",
    "(Classificar match) as (uc23)\n",
    "\n",
    "user <|-- premium\n",
    "\n",
    "(uc1) <-- user\n",
    "(uc2) <-- user\n",
    "(uc3) <-- user\n",
    "(uc4) <-- user\n",
    "(uc5) <-- user\n",
    "(uc6) <-- user\n",
    "(uc7) <-- user\n",
    "(uc8) <- user\n",
    "(uc9) <- user\n",
    "(uc10) <- user\n",
    "user -> (uc11)\n",
    "user -> (uc12)\n",
    "user -> (uc24)\n",
    "(uc2) --> (uc14)\n",
    "(uc14) -> (uc15) : include\n",
    "(uc5) -> (uc15) : include\n",
    "(uc5) <-- (uc23)\n",
    "(uc14) -> (uc23)\n",
    "\n",
    "\n",
    "premium -> (uc16)\n",
    "(uc17) <- premium\n",
    "\n",
    "adm -> (uc18)\n",
    "(uc19) <- adm\n",
    "\n",
    "(uc22) <- sistema\n",
    "sistema -> (uc23)\n",
    "\n",
    "\n",
    "@enduml\n"
   ]
  }
 ],
 "metadata": {
  "kernelspec": {
   "display_name": "Python 3",
   "language": "python",
   "name": "python3"
  },
  "language_info": {
   "codemirror_mode": {
    "name": "ipython",
    "version": 3
   },
   "file_extension": ".py",
   "mimetype": "text/x-python",
   "name": "python",
   "nbconvert_exporter": "python",
   "pygments_lexer": "ipython3",
   "version": "3.11.4"
  },
  "orig_nbformat": 4
 },
 "nbformat": 4,
 "nbformat_minor": 2
}
